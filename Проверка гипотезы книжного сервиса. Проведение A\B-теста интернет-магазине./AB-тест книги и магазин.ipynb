{
 "cells": [
  {
   "cell_type": "markdown",
   "id": "_E41Wr5fqnFT",
   "metadata": {
    "id": "_E41Wr5fqnFT"
   },
   "source": [
    "# Часть 1. Проверка гипотезы в Python и составление аналитической записки"
   ]
  },
  {
   "cell_type": "markdown",
   "id": "e06910dd",
   "metadata": {
    "id": "e06910dd"
   },
   "source": [
    "## Проверка гипотезы о том, что петербуржцы больше времени проводят с книгами в приложении\n",
    "\n",
    "- Автор: Заплатин Артем Александрович (aazaplatin@yandex.ru)\n",
    "- Дата: 30.05.2025"
   ]
  },
  {
   "cell_type": "markdown",
   "id": "4149134c",
   "metadata": {
    "id": "4149134c"
   },
   "source": [
    "## Цели и задачи проекта\n",
    "\n",
    "**Цель:**\n",
    "\n",
    "- Проверить гипотезу о том, что пользователи из Санкт-Петербурга в среднем больше читаю и прослушивают книги в приложении, чем пользователи из Москвы.\n",
    "\n",
    "**Задачи:**\n",
    "\n",
    "- Выгрузить данные и проверить наличие дубликатов;\n",
    "- Сравнить размеры групп, их статистики и распределения;\n",
    "- Выбрать тип теста и уровень статистической значимости;\n",
    "- Провести тест и посчитать pvalue. Интерпретировать полученный результат;\n",
    "- Составить аналитическую записку, написать возможные причины полученного результата.\n"
   ]
  },
  {
   "cell_type": "markdown",
   "id": "728986ea",
   "metadata": {
    "id": "728986ea"
   },
   "source": [
    "## Описание данных\n",
    "\n",
    "Предобработанная таблица `yandex_knigi_data`:\n",
    "\n",
    "- `city` - город пользователя. Может принимать одно из двух значений: Москва или Санкт-Петербург;\n",
    "- `puid` - id пользователя;\n",
    "- `hours` - суммарная длительность чтения или прослушивания в часах;"
   ]
  },
  {
   "cell_type": "markdown",
   "id": "4fecaf95",
   "metadata": {
    "id": "4fecaf95"
   },
   "source": [
    "## Содержимое проекта\n",
    "\n",
    "1. [Загрузка данных и знакомство с ними](#1-загрузка-данных-и-знакомство-с-ними)\n",
    "2. [Проверка гипотезы в Python](#2-проверка-гипотезы-в-python)\n",
    "3. [Аналитическая записка](#3-аналитическая-записка)\n",
    "\n",
    "---"
   ]
  },
  {
   "cell_type": "markdown",
   "id": "6f7d21d6",
   "metadata": {
    "id": "6f7d21d6"
   },
   "source": [
    "## 1. Загрузка данных и знакомство с ними\n",
    "\n",
    "Загружаем данные пользователей из Москвы и Санкт-Петербурга c их активностью (суммой часов чтения и прослушивания)."
   ]
  },
  {
   "cell_type": "code",
   "execution_count": 1,
   "id": "b6b2d09e",
   "metadata": {
    "trusted": false
   },
   "outputs": [],
   "source": [
    "# Импортируем библиотеку pandas\n",
    "import pandas as pd\n",
    "# Импортируем библиотеку numpy\n",
    "import numpy as np\n",
    "\n",
    "# Импортируем библиотеку matplotlib для визуализации линейного графика\n",
    "import matplotlib.pyplot as plt\n",
    "# Импортируем библиотеку seaborn для визуализации распределения и построения KDE\n",
    "import seaborn as sns\n",
    "\n",
    "# Импортируем ttest_ind из scipy.stats для проведения стат.теста с помощью т-теста\n",
    "import scipy.stats as stats\n",
    "from scipy.stats import mannwhitneyu\n",
    "\n",
    "# Импортируем proportions_ztest из statsmodels.stats.proportion \n",
    "# для проведения стат.теста с помощью z-теста \n",
    "from statsmodels.stats.proportion import proportions_ztest\n",
    "\n",
    "from statsmodels.stats.power import NormalIndPower"
   ]
  },
  {
   "cell_type": "markdown",
   "id": "c0f57acf",
   "metadata": {},
   "source": [
    "Датасет yandex_knigi_data был получен с помощью SQL запроса\n",
    "\n",
    "```\n",
    "    select\n",
    "        usage_geo_id_name as city,\n",
    "        puid,\n",
    "        sum(hours) as hours\n",
    "    from bookmate.audition\n",
    "    join bookmate.geo using (usage_geo_id) \n",
    "    where usage_geo_id_name in ('Москва', 'Санкт-Петербург')\n",
    "    group by usage_geo_id_name, puid\n",
    "\n",
    "```"
   ]
  },
  {
   "cell_type": "code",
   "execution_count": null,
   "id": "5c01d0c5",
   "metadata": {
    "trusted": false
   },
   "outputs": [
    {
     "data": {
      "text/html": [
       "<div>\n",
       "<style scoped>\n",
       "    .dataframe tbody tr th:only-of-type {\n",
       "        vertical-align: middle;\n",
       "    }\n",
       "\n",
       "    .dataframe tbody tr th {\n",
       "        vertical-align: top;\n",
       "    }\n",
       "\n",
       "    .dataframe thead th {\n",
       "        text-align: right;\n",
       "    }\n",
       "</style>\n",
       "<table border=\"1\" class=\"dataframe\">\n",
       "  <thead>\n",
       "    <tr style=\"text-align: right;\">\n",
       "      <th></th>\n",
       "      <th>city</th>\n",
       "      <th>puid</th>\n",
       "      <th>hours</th>\n",
       "    </tr>\n",
       "  </thead>\n",
       "  <tbody>\n",
       "    <tr>\n",
       "      <th>0</th>\n",
       "      <td>Москва</td>\n",
       "      <td>9668</td>\n",
       "      <td>26.167776</td>\n",
       "    </tr>\n",
       "    <tr>\n",
       "      <th>1</th>\n",
       "      <td>Москва</td>\n",
       "      <td>16598</td>\n",
       "      <td>82.111217</td>\n",
       "    </tr>\n",
       "    <tr>\n",
       "      <th>2</th>\n",
       "      <td>Москва</td>\n",
       "      <td>80401</td>\n",
       "      <td>4.656906</td>\n",
       "    </tr>\n",
       "    <tr>\n",
       "      <th>3</th>\n",
       "      <td>Москва</td>\n",
       "      <td>140205</td>\n",
       "      <td>1.840556</td>\n",
       "    </tr>\n",
       "    <tr>\n",
       "      <th>4</th>\n",
       "      <td>Москва</td>\n",
       "      <td>248755</td>\n",
       "      <td>151.326434</td>\n",
       "    </tr>\n",
       "  </tbody>\n",
       "</table>\n",
       "</div>"
      ],
      "text/plain": [
       "     city    puid       hours\n",
       "0  Москва    9668   26.167776\n",
       "1  Москва   16598   82.111217\n",
       "2  Москва   80401    4.656906\n",
       "3  Москва  140205    1.840556\n",
       "4  Москва  248755  151.326434"
      ]
     },
     "metadata": {},
     "output_type": "display_data"
    },
    {
     "name": "stdout",
     "output_type": "stream",
     "text": [
      "<class 'pandas.core.frame.DataFrame'>\n",
      "Index: 8784 entries, 0 to 8783\n",
      "Data columns (total 3 columns):\n",
      " #   Column  Non-Null Count  Dtype  \n",
      "---  ------  --------------  -----  \n",
      " 0   city    8784 non-null   object \n",
      " 1   puid    8784 non-null   int64  \n",
      " 2   hours   8784 non-null   float64\n",
      "dtypes: float64(1), int64(1), object(1)\n",
      "memory usage: 274.5+ KB\n"
     ]
    }
   ],
   "source": [
    "# Сохраняем датасет yandex_knigi_data.csv в датафрейм book_df\n",
    "# Датасет скрыт, т.к. является интеллектуальной собственностью Я.Практикум\n",
    "books_df = pd.read_csv('secret_key', index_col='Unnamed: 0')\n",
    "\n",
    "display(books_df.head(5))\n",
    "\n",
    "books_df.info()"
   ]
  },
  {
   "cell_type": "markdown",
   "id": "794c8d6a",
   "metadata": {},
   "source": [
    "<div style=\"background-color:rgb(205, 247, 214); padding: 10px; border-radius: 5px; color: black; border-color: black\">\n",
    "\n",
    "**Наблюдение:**\n",
    "\n",
    "- Пропуски отсутствуют;\n",
    "- Типы данных соответствуют содержанию.\n",
    "\n",
    "Необходимо проверить на дубликаты колонку `puid`\n",
    "\n",
    "</div>"
   ]
  },
  {
   "cell_type": "code",
   "execution_count": 3,
   "id": "98855fc6",
   "metadata": {
    "trusted": false
   },
   "outputs": [
    {
     "name": "stdout",
     "output_type": "stream",
     "text": [
      "Кол-во дубликатов по колонке puid: 244 шт.\n"
     ]
    }
   ],
   "source": [
    "# Проверяем кол-во дубликатов\n",
    "sum_duplicated = books_df.duplicated(subset='puid').sum()\n",
    "print(f'Кол-во дубликатов по колонке puid: {sum_duplicated} шт.')"
   ]
  },
  {
   "cell_type": "code",
   "execution_count": 4,
   "id": "225fe640",
   "metadata": {
    "trusted": false
   },
   "outputs": [
    {
     "name": "stdout",
     "output_type": "stream",
     "text": [
      "Кол-во дубликатов по колонке puid: 0 шт.\n"
     ]
    }
   ],
   "source": [
    "# Удаляем дубликаты, предварительно отсортировав таблицу по возрастанию \n",
    "# Таким образом избежим удаления дубликатов только в одной группе\n",
    "books_df = books_df.sort_values(by=['puid', 'hours']).drop_duplicates(subset=['puid'], keep='last', ignore_index=True) \n",
    "\n",
    "# Проверяем кол-во дубликатов\n",
    "sum_duplicated = books_df.duplicated(subset='puid').sum()\n",
    "print(f'Кол-во дубликатов по колонке puid: {sum_duplicated} шт.')"
   ]
  },
  {
   "cell_type": "markdown",
   "id": "5065aba7",
   "metadata": {},
   "source": [
    "<div style=\"background-color:rgb(205, 247, 214); padding: 10px; border-radius: 5px; color: black; border-color: black\">\n",
    "\n",
    "**Наблюдение:**\n",
    "\n",
    "- Дубликаты удалены более-менее равномерно.\n",
    "\n",
    "Далее проверим кол-во пользователей в каждой группе (выборке) и распределение часов - для выбора теста. \n",
    "\n",
    "Посчитаем статистики для каждой группы пользователей.\n",
    "\n",
    "</div>"
   ]
  },
  {
   "cell_type": "code",
   "execution_count": 5,
   "id": "52ad403d",
   "metadata": {
    "trusted": false
   },
   "outputs": [
    {
     "data": {
      "text/plain": [
       "city\n",
       "Москва             6099\n",
       "Санкт-Петербург    2441\n",
       "Name: puid, dtype: int64"
      ]
     },
     "execution_count": 5,
     "metadata": {},
     "output_type": "execute_result"
    }
   ],
   "source": [
    "# Группируем клиентов по городу\n",
    "city_group = books_df.groupby('city')['puid'].nunique()\n",
    "city_group"
   ]
  },
  {
   "cell_type": "code",
   "execution_count": 6,
   "id": "12c2c2e1",
   "metadata": {
    "trusted": false
   },
   "outputs": [
    {
     "data": {
      "image/png": "[encoded data removed]",
      "text/plain": [
       "<Figure size 1000x600 with 1 Axes>"
      ]
     },
     "metadata": {},
     "output_type": "display_data"
    }
   ],
   "source": [
    "# Создаем столбчатую диаграмму для отображения кол-ва клиентов в каждом городе\n",
    "plt.figure(figsize=(10, 6))\n",
    "city_group.plot.bar()\n",
    "\n",
    "plt.xlabel('Город')\n",
    "plt.ylabel('Кол-во пользователей')\n",
    "plt.xticks(rotation=0)\n",
    "plt.title('Кол-во пользователей в каждом городе')\n",
    "\n",
    "for idx, value in enumerate(city_group):\n",
    "    plt.text(idx, value + max(city_group)*0.01, str(value), ha='center', va='bottom', fontsize=9)\n",
    "    \n",
    "plt.show()"
   ]
  },
  {
   "cell_type": "code",
   "execution_count": 7,
   "id": "be03d0ab",
   "metadata": {
    "trusted": false
   },
   "outputs": [
    {
     "data": {
      "text/html": [
       "<div>\n",
       "<style scoped>\n",
       "    .dataframe tbody tr th:only-of-type {\n",
       "        vertical-align: middle;\n",
       "    }\n",
       "\n",
       "    .dataframe tbody tr th {\n",
       "        vertical-align: top;\n",
       "    }\n",
       "\n",
       "    .dataframe thead th {\n",
       "        text-align: right;\n",
       "    }\n",
       "</style>\n",
       "<table border=\"1\" class=\"dataframe\">\n",
       "  <thead>\n",
       "    <tr style=\"text-align: right;\">\n",
       "      <th>city</th>\n",
       "      <th>Москва</th>\n",
       "      <th>Санкт-Петербург</th>\n",
       "    </tr>\n",
       "  </thead>\n",
       "  <tbody>\n",
       "    <tr>\n",
       "      <th>count</th>\n",
       "      <td>6099.000000</td>\n",
       "      <td>2441.000000</td>\n",
       "    </tr>\n",
       "    <tr>\n",
       "      <th>mean</th>\n",
       "      <td>11.075176</td>\n",
       "      <td>12.028376</td>\n",
       "    </tr>\n",
       "    <tr>\n",
       "      <th>std</th>\n",
       "      <td>37.229705</td>\n",
       "      <td>40.521834</td>\n",
       "    </tr>\n",
       "    <tr>\n",
       "      <th>min</th>\n",
       "      <td>0.000022</td>\n",
       "      <td>0.000025</td>\n",
       "    </tr>\n",
       "    <tr>\n",
       "      <th>25%</th>\n",
       "      <td>0.058889</td>\n",
       "      <td>0.075278</td>\n",
       "    </tr>\n",
       "    <tr>\n",
       "      <th>50%</th>\n",
       "      <td>0.930357</td>\n",
       "      <td>1.025801</td>\n",
       "    </tr>\n",
       "    <tr>\n",
       "      <th>75%</th>\n",
       "      <td>6.025852</td>\n",
       "      <td>6.880545</td>\n",
       "    </tr>\n",
       "    <tr>\n",
       "      <th>max</th>\n",
       "      <td>857.209373</td>\n",
       "      <td>978.764775</td>\n",
       "    </tr>\n",
       "  </tbody>\n",
       "</table>\n",
       "</div>"
      ],
      "text/plain": [
       "city        Москва  Санкт-Петербург\n",
       "count  6099.000000      2441.000000\n",
       "mean     11.075176        12.028376\n",
       "std      37.229705        40.521834\n",
       "min       0.000022         0.000025\n",
       "25%       0.058889         0.075278\n",
       "50%       0.930357         1.025801\n",
       "75%       6.025852         6.880545\n",
       "max     857.209373       978.764775"
      ]
     },
     "execution_count": 7,
     "metadata": {},
     "output_type": "execute_result"
    }
   ],
   "source": [
    "# Выводим статистическое описание\n",
    "books_df.groupby('city')['hours'].describe().T"
   ]
  },
  {
   "cell_type": "code",
   "execution_count": 8,
   "id": "902ee68f",
   "metadata": {
    "trusted": false
   },
   "outputs": [
    {
     "data": {
      "image/png": "[encoded data removed]",
      "text/plain": [
       "<Figure size 1000x600 with 1 Axes>"
      ]
     },
     "metadata": {},
     "output_type": "display_data"
    }
   ],
   "source": [
    "# Строим гистограмму по распределению чтения и прослушивания книг в Москве\n",
    "\n",
    "plt.figure(figsize=(10, 6))\n",
    "books_df[books_df['city'] == 'Москва']['hours'].dropna().hist(bins=25, \n",
    "                                 color='lightgreen', \n",
    "                                 edgecolor='grey')\n",
    "\n",
    "# Считаем медиану и среднее\n",
    "median_msc = books_df[books_df['city'] == 'Москва']['hours'].median()\n",
    "mean_msc = books_df[books_df['city'] == 'Москва']['hours'].mean()\n",
    "\n",
    "# Добавляем линий медианы и среднего\n",
    "plt.axvline(median_msc, color='blue', linestyle='--', linewidth=1, label=f'Медиана: {median_msc:.1f}')\n",
    "plt.axvline(mean_msc, color='red', linestyle='-', linewidth=1, label=f'Среднее: {mean_msc:.1f}')\n",
    "\n",
    "plt.title('Распределение чтения и прослушивания')\n",
    "plt.xlabel('Суммарное время чтения или прослушивания')\n",
    "plt.ylabel('Частота')\n",
    "plt.legend()\n",
    "plt.grid(axis='y', linestyle='-', alpha=0.5)\n",
    "plt.show()"
   ]
  },
  {
   "cell_type": "code",
   "execution_count": 9,
   "id": "1ee083e1",
   "metadata": {
    "trusted": false
   },
   "outputs": [
    {
     "data": {
      "image/png": "[encoded data removed]",
      "text/plain": [
       "<Figure size 1000x600 with 1 Axes>"
      ]
     },
     "metadata": {},
     "output_type": "display_data"
    }
   ],
   "source": [
    "# Строим гистограмму по распределению в Санкт-Петербурге\n",
    "plt.figure(figsize=(10, 6))\n",
    "books_df[books_df['city'] == 'Санкт-Петербург']['hours'].dropna().hist(bins=25, \n",
    "                                 color='lightgreen', \n",
    "                                 edgecolor='grey')\n",
    "\n",
    "# Считаем медиану и среднее\n",
    "median_spb = books_df[books_df['city'] == 'Санкт-Петербург']['hours'].median()\n",
    "mean_spb = books_df[books_df['city'] == 'Санкт-Петербург']['hours'].mean()\n",
    "\n",
    "# Добавляем линий медианы и среднего\n",
    "plt.axvline(median_spb, color='blue', linestyle='--', linewidth=1, label=f'Медиана: {median_spb:.1f}')\n",
    "plt.axvline(mean_spb, color='red', linestyle='-', linewidth=1, label=f'Среднее: {mean_spb:.1f}')\n",
    "\n",
    "plt.title('Распределение чтения и прослушивания')\n",
    "plt.xlabel('Суммарное время чтения или прослушивания')\n",
    "plt.ylabel('Частота')\n",
    "plt.legend()\n",
    "plt.grid(axis='y', linestyle='-', alpha=0.5)\n",
    "plt.show()"
   ]
  },
  {
   "cell_type": "code",
   "execution_count": 10,
   "id": "18db53ae",
   "metadata": {
    "trusted": false
   },
   "outputs": [
    {
     "data": {
      "image/png": "[encoded data removed]",
      "text/plain": [
       "<Figure size 640x480 with 1 Axes>"
      ]
     },
     "metadata": {},
     "output_type": "display_data"
    }
   ],
   "source": [
    "# Визуализируем распределение \n",
    "sns.histplot(books_df[books_df['city'] == 'Москва']['hours'], \n",
    "             bins=10, \n",
    "             label='Москва', \n",
    "             color='royalblue',\n",
    "             stat='density',\n",
    "             common_norm=False\n",
    "             )\n",
    "sns.histplot(books_df[books_df['city'] == 'Санкт-Петербург']['hours'], \n",
    "             bins=10,\n",
    "             label='Санкт-Петербург', \n",
    "             color='orange',\n",
    "             stat='density',\n",
    "             common_norm=False\n",
    "             )\n",
    "plt.title('Распределение чтения и прослушивания')\n",
    "plt.xlabel('Суммарное время чтения или прослушивания')\n",
    "plt.ylabel('Плотность распределения')\n",
    "plt.legend(loc='upper right')\n",
    "plt.grid(axis='y', linestyle='-', alpha=0.5)\n",
    "plt.show()"
   ]
  },
  {
   "cell_type": "code",
   "execution_count": 11,
   "id": "dc6816ba",
   "metadata": {
    "trusted": false
   },
   "outputs": [
    {
     "data": {
      "image/png": "[encoded data removed]",
      "text/plain": [
       "<Figure size 1000x600 with 1 Axes>"
      ]
     },
     "metadata": {},
     "output_type": "display_data"
    }
   ],
   "source": [
    "# Строим диаграмму размаха\n",
    "plt.figure(figsize=(10, 6))\n",
    "sns.boxplot(data=books_df, x='hours', y='city')\n",
    "plt.title('Распределение чтения и прослушивания')\n",
    "plt.suptitle('')\n",
    "plt.xlabel('Суммарное время чтения или прослушивания')\n",
    "plt.ylabel('Город')\n",
    "plt.show()"
   ]
  },
  {
   "cell_type": "markdown",
   "id": "80128a50",
   "metadata": {},
   "source": [
    "<div style=\"background-color:rgb(205, 247, 214); padding: 10px; border-radius: 5px; color: black; border-color: black\">\n",
    "\n",
    "**Наблюдение:**\n",
    "\n",
    "- Кол-во выборок в группе неравное, при этом стоит отметить, что для t-теста или Манна-Уитни необязательно соблюдать равенство в выборках;\n",
    "- Распределение больше похоже на экспоненциальное, чем на нормальное;\n",
    "- Статистики выборок варьируются, а также имеются аномальные значения (далее Москва и Санкт-Петербург соответственно): \n",
    "    - Оценочные стандартные отклонения у выборок 37 и 40 часов;\n",
    "    - Минимальные значения - 0 часов;\n",
    "    - Максимальные - 857 и 978 часов;\n",
    "    - Среднее 11 и 12 часов, медиана около 1 часа;\n",
    "\n",
    "Удаление выбросов не поспособствует изменению распределения на нормальное и приведет к потери большого кол-ва информации.\n",
    "\n",
    "Так как исследуемая метрика выражена в абсолютном значении, то необходимо выбирать между тестом Манна-Уитни и t-тестом. Сначала опишем наши выборки и распределения:\n",
    "\n",
    "- Выборки имеют экспоненциальное распределение;\n",
    "- Неравные дисперсии;\n",
    "- Большое кол-во выбросов, которые нельзя удалить/изменить.\n",
    "\n",
    "Так как оба теста не требуют нормального распределения в следствии центральной предельной теоремы, а также не чувствительны к дисперсии (с поправкой Уэлча в t-тесте), то фактором для выбора теста будут являться выбросы - поэтому применим тест Манна-Уитни.\n",
    "\n",
    "</div>"
   ]
  },
  {
   "cell_type": "markdown",
   "id": "956e82e2",
   "metadata": {
    "id": "956e82e2"
   },
   "source": [
    "## 2. Проверка гипотезы в Python\n",
    "\n",
    "Гипотеза: пользователи из Санкт-Петербурга проводят в среднем больше времени за чтением и прослушиванием книг в приложении, чем пользователи из Москвы. Попробуем статистически это доказать, используя одностороннюю проверку гипотезы с двумя выборками:\n",
    "\n",
    "- Нулевая гипотеза H₀: Среднее время активности пользователей в Санкт-Петербурге не больше, чем в Москве (μ СПб ≤ μ Мск).\n",
    "\n",
    "- Альтернативная гипотеза H₁: Среднее время активности пользователей в Санкт-Петербурге больше, и это различие статистически значимо (μ СПб > μ Мск)."
   ]
  },
  {
   "cell_type": "markdown",
   "id": "4ee415a9",
   "metadata": {},
   "source": [
    "<div style=\"background-color:rgb(205, 247, 214); padding: 10px; border-radius: 5px; color: black; border-color: black\">\n",
    "\n",
    "**Наблюдение:**\n",
    "\n",
    "Для начала определим тип теста и необходимые данные для его проведения:\n",
    "\n",
    "- Тип теста: на предыдущем этапе определили, что используем теста Манна-Уитни;\n",
    "- Тест стандартный, не требующий крайней внимательности к ошибкам, поэтому уровень стат.значимость - 5%;\n",
    "- Санкт-Петербург сравниваем с Москвой, поэтому используем правостороннюю гипотезу.\n",
    "\n",
    "</div>"
   ]
  },
  {
   "cell_type": "code",
   "execution_count": 12,
   "id": "67956690",
   "metadata": {
    "id": "67956690",
    "trusted": false
   },
   "outputs": [
    {
     "name": "stdout",
     "output_type": "stream",
     "text": [
      "pvalue=0.06159915490740047 > 0.05\n",
      "Нулевая гипотеза находит подтверждение!\n"
     ]
    }
   ],
   "source": [
    "# Уровень статистической значимости\n",
    "alpha = 0.05 \n",
    "\n",
    "# Применяем тест Манна — Уитни\n",
    "test_result_pvalue = mannwhitneyu(\n",
    "    books_df[books_df['city'] == 'Санкт-Петербург']['hours'], \n",
    "    books_df[books_df['city'] == 'Москва']['hours'], \n",
    "    alternative='greater'\n",
    ").pvalue\n",
    "\n",
    "if test_result_pvalue > alpha:\n",
    "    print(f'pvalue={test_result_pvalue} > {alpha}')\n",
    "    print('Нулевая гипотеза находит подтверждение!')\n",
    "else:\n",
    "    print(f'pvalue={test_result_pvalue} < {alpha}')\n",
    "    print('Нулевая гипотеза не находит подтверждения!')"
   ]
  },
  {
   "cell_type": "markdown",
   "id": "06a63aa8",
   "metadata": {},
   "source": [
    "<div style=\"background-color:rgb(205, 247, 214); padding: 10px; border-radius: 5px; color: black; border-color: black\">\n",
    "\n",
    "**Наблюдение:**\n",
    "\n",
    "- pvalue оказался выше уровня статистической значимости, что говорит о том, что с текущими выборками мы не смогли отвергнуть нулевую гипотезу, т.е не смогли отвергнуть гипотезу, что в Санкт-Петербурге в среднем читают не больше, чем в Москве.\n",
    "\n",
    "</div>"
   ]
  },
  {
   "cell_type": "markdown",
   "id": "6953e84c",
   "metadata": {
    "id": "6953e84c"
   },
   "source": [
    "## 3. Аналитическая записка"
   ]
  },
  {
   "cell_type": "markdown",
   "id": "2f0187d3",
   "metadata": {},
   "source": [
    "<div style=\"background-color:rgb(205, 247, 214); padding: 10px; border-radius: 5px; color: black; border-color: black\">\n",
    "\n",
    "**Наблюдение:**\n",
    "\n",
    "1. По результатам анализа выборок и распределений бьл выбран тест Манна-Уитни;\n",
    "2. Уровень стат. значимости был выбран 0.05 , так как в условиях теста не требуется детальная внимательность к ошибкам;\n",
    "3. В результат проведения стат. теста получили значение p-value = 0.06, что выше уровня alpha;\n",
    "4. Так как p-value больше alpha, то не смогли отвергнуть нулевую гипотезу.\n",
    "\n",
    "Причины полученного результата:\n",
    "- Распределение данных достаточно похоже;\n",
    "- В двух группах большой разброс данных, что снижает чувствительность теста;\n",
    "- Стоит рассмотреть более конкретные выборки по клиентам: по полу, по возрасту и т.д.\n",
    "\n",
    "</div>"
   ]
  },
  {
   "cell_type": "markdown",
   "id": "hc1d6jVISegz",
   "metadata": {
    "id": "hc1d6jVISegz"
   },
   "source": [
    "----"
   ]
  },
  {
   "cell_type": "markdown",
   "id": "NqOUIYhbrIfC",
   "metadata": {
    "id": "NqOUIYhbrIfC"
   },
   "source": [
    "# Часть 2. Анализ результатов A/B-тестирования"
   ]
  },
  {
   "cell_type": "markdown",
   "id": "256640c9",
   "metadata": {},
   "source": [
    "#### Техническое задание проведённого теста:\n",
    "\n",
    "Параметры теста:\n",
    "- название теста: `interface_eu_test`;\n",
    "- группы: `А` (контрольная), `B` (новый интерфейс).\n",
    "\n",
    "Что нужно:\n",
    "- загрузить данные теста;\n",
    "- проверить корректность его проведения;\n",
    "- проанализировать полученные результаты.\n",
    "\n",
    "Данные\n",
    "\n",
    "1. `ab_test_participants` — таблица участников тестов.\n",
    "\n",
    "Структура файла:\n",
    "- `user_id` — идентификатор пользователя;\n",
    "- `group` — группа пользователя;\n",
    "- `ab_test` — название теста;\n",
    "- `device` — устройство, с которого происходила регистрация.\n",
    "\n",
    "2. `ab_test_events` — архив с одним csv-файлом, в котором собраны события 2020 года;\n",
    "\n",
    "Структура файла:\n",
    "- `user_id` — идентификатор пользователя;\n",
    "- `event_dt` — дата и время события;\n",
    "- `event_name` — тип события;\n",
    "- `details` — дополнительные данные о событии.\n",
    "\n",
    "Дополнительная информация по столбцу `details`\n",
    "\n",
    "Числовые значения:\n",
    "- `registration` (регистрация) — стоимость привлечения клиента;\n",
    "- `purchase` (покупка) — стоимость покупки.\n",
    "\n",
    "---"
   ]
  },
  {
   "cell_type": "markdown",
   "id": "UNXAAyF5r9Rk",
   "metadata": {
    "id": "UNXAAyF5r9Rk"
   },
   "source": [
    "## 1. Цель и задачи исследования."
   ]
  },
  {
   "cell_type": "markdown",
   "id": "kHx-51yES8bd",
   "metadata": {
    "id": "kHx-51yES8bd"
   },
   "source": [
    "**Цель:**\n",
    "\n",
    "- Оценить влияние новой версии сайта интернет-магазина BitMotion Kit на конверсию пользователей — определить, приводит ли обновлённый интерфейс к увеличению числа совершённых покупок.\n",
    "\n",
    "**Задачи:**\n",
    "\n",
    "- Загрузить и проверить целостность данных по участникам и событиям A/B-теста;\n",
    "- Оценить корректность проведения эксперимента (распределение по группам, отсутствие пересечений, соответствие ТЗ);\n",
    "- Проанализировать пользовательскую активность в обеих группах;\n",
    "- Рассчитать конверсию и сравнить её между контрольной и тестовой группами;\n",
    "- Провести статистическую проверку гипотезы о различии конверсий;\n",
    "- Сформулировать выводы и рекомендации по результатам теста."
   ]
  },
  {
   "cell_type": "markdown",
   "id": "_CZryx2OsH-s",
   "metadata": {
    "id": "_CZryx2OsH-s"
   },
   "source": [
    "## 2. Загрузка данных, оценка их целостность.\n"
   ]
  },
  {
   "cell_type": "code",
   "execution_count": null,
   "id": "DjFcJbeGsTIg",
   "metadata": {
    "id": "DjFcJbeGsTIg",
    "trusted": false
   },
   "outputs": [],
   "source": [
    "# Загружаем данные\n",
    "# Датасеты скрыты, т.к. являются интеллектуальной собственностью Я.Практикума\n",
    "participants = pd.read_csv('secret_key')\n",
    "events = pd.read_csv('secret_key', parse_dates=['event_dt'], low_memory=False)"
   ]
  },
  {
   "cell_type": "code",
   "execution_count": 14,
   "id": "ba9b4250",
   "metadata": {
    "trusted": false
   },
   "outputs": [
    {
     "data": {
      "text/plain": [
       "14525"
      ]
     },
     "metadata": {},
     "output_type": "display_data"
    },
    {
     "data": {
      "text/html": [
       "<div>\n",
       "<style scoped>\n",
       "    .dataframe tbody tr th:only-of-type {\n",
       "        vertical-align: middle;\n",
       "    }\n",
       "\n",
       "    .dataframe tbody tr th {\n",
       "        vertical-align: top;\n",
       "    }\n",
       "\n",
       "    .dataframe thead th {\n",
       "        text-align: right;\n",
       "    }\n",
       "</style>\n",
       "<table border=\"1\" class=\"dataframe\">\n",
       "  <thead>\n",
       "    <tr style=\"text-align: right;\">\n",
       "      <th></th>\n",
       "      <th>user_id</th>\n",
       "      <th>group</th>\n",
       "      <th>ab_test</th>\n",
       "      <th>device</th>\n",
       "    </tr>\n",
       "  </thead>\n",
       "  <tbody>\n",
       "    <tr>\n",
       "      <th>0</th>\n",
       "      <td>0002CE61FF2C4011</td>\n",
       "      <td>B</td>\n",
       "      <td>interface_eu_test</td>\n",
       "      <td>Mac</td>\n",
       "    </tr>\n",
       "    <tr>\n",
       "      <th>1</th>\n",
       "      <td>001064FEAAB631A1</td>\n",
       "      <td>B</td>\n",
       "      <td>recommender_system_test</td>\n",
       "      <td>Android</td>\n",
       "    </tr>\n",
       "    <tr>\n",
       "      <th>2</th>\n",
       "      <td>001064FEAAB631A1</td>\n",
       "      <td>A</td>\n",
       "      <td>interface_eu_test</td>\n",
       "      <td>Android</td>\n",
       "    </tr>\n",
       "    <tr>\n",
       "      <th>3</th>\n",
       "      <td>0010A1C096941592</td>\n",
       "      <td>A</td>\n",
       "      <td>recommender_system_test</td>\n",
       "      <td>Android</td>\n",
       "    </tr>\n",
       "    <tr>\n",
       "      <th>4</th>\n",
       "      <td>001E72F50D1C48FA</td>\n",
       "      <td>A</td>\n",
       "      <td>interface_eu_test</td>\n",
       "      <td>Mac</td>\n",
       "    </tr>\n",
       "  </tbody>\n",
       "</table>\n",
       "</div>"
      ],
      "text/plain": [
       "            user_id group                  ab_test   device\n",
       "0  0002CE61FF2C4011     B        interface_eu_test      Mac\n",
       "1  001064FEAAB631A1     B  recommender_system_test  Android\n",
       "2  001064FEAAB631A1     A        interface_eu_test  Android\n",
       "3  0010A1C096941592     A  recommender_system_test  Android\n",
       "4  001E72F50D1C48FA     A        interface_eu_test      Mac"
      ]
     },
     "metadata": {},
     "output_type": "display_data"
    },
    {
     "name": "stdout",
     "output_type": "stream",
     "text": [
      "<class 'pandas.core.frame.DataFrame'>\n",
      "RangeIndex: 14525 entries, 0 to 14524\n",
      "Data columns (total 4 columns):\n",
      " #   Column   Non-Null Count  Dtype \n",
      "---  ------   --------------  ----- \n",
      " 0   user_id  14525 non-null  object\n",
      " 1   group    14525 non-null  object\n",
      " 2   ab_test  14525 non-null  object\n",
      " 3   device   14525 non-null  object\n",
      "dtypes: object(4)\n",
      "memory usage: 454.0+ KB\n"
     ]
    }
   ],
   "source": [
    "# Проверяем загруженные данные\n",
    "display(participants.shape[0])\n",
    "display(participants.head())\n",
    "participants.info()"
   ]
  },
  {
   "cell_type": "code",
   "execution_count": 15,
   "id": "8e68ee5c",
   "metadata": {},
   "outputs": [
    {
     "data": {
      "text/plain": [
       "array(['interface_eu_test', 'recommender_system_test'], dtype=object)"
      ]
     },
     "execution_count": 15,
     "metadata": {},
     "output_type": "execute_result"
    }
   ],
   "source": [
    "# Проверяем уникальные значения в колонке ab_test\n",
    "participants['ab_test'].unique()"
   ]
  },
  {
   "cell_type": "code",
   "execution_count": 16,
   "id": "af1626cf",
   "metadata": {},
   "outputs": [
    {
     "name": "stdout",
     "output_type": "stream",
     "text": [
      "Кол-во пересекающихся пользователей: 116\n"
     ]
    }
   ],
   "source": [
    "# Проверяем пересечения клиентов в тестовой группе и в стороннем тесте\n",
    "intersection_participants = list(set(participants[(participants['group']=='B') \n",
    "                                                    & (participants['ab_test']=='recommender_system_test')]['user_id']) \n",
    "                                & set(participants[(participants['group']=='B') \n",
    "                                                    & (participants['ab_test']=='interface_eu_test')]['user_id']))\n",
    "\n",
    "if len(intersection_participants) == 0:\n",
    "    print('Пересечений пользователей в группах нет')\n",
    "else:\n",
    "    print(f'Кол-во пересекающихся пользователей: {len(intersection_participants)}')"
   ]
  },
  {
   "cell_type": "code",
   "execution_count": 17,
   "id": "8368a35c",
   "metadata": {
    "trusted": false
   },
   "outputs": [
    {
     "data": {
      "text/plain": [
       "787286"
      ]
     },
     "metadata": {},
     "output_type": "display_data"
    },
    {
     "data": {
      "text/html": [
       "<div>\n",
       "<style scoped>\n",
       "    .dataframe tbody tr th:only-of-type {\n",
       "        vertical-align: middle;\n",
       "    }\n",
       "\n",
       "    .dataframe tbody tr th {\n",
       "        vertical-align: top;\n",
       "    }\n",
       "\n",
       "    .dataframe thead th {\n",
       "        text-align: right;\n",
       "    }\n",
       "</style>\n",
       "<table border=\"1\" class=\"dataframe\">\n",
       "  <thead>\n",
       "    <tr style=\"text-align: right;\">\n",
       "      <th></th>\n",
       "      <th>user_id</th>\n",
       "      <th>event_dt</th>\n",
       "      <th>event_name</th>\n",
       "      <th>details</th>\n",
       "    </tr>\n",
       "  </thead>\n",
       "  <tbody>\n",
       "    <tr>\n",
       "      <th>0</th>\n",
       "      <td>GLOBAL</td>\n",
       "      <td>2020-12-01 00:00:00</td>\n",
       "      <td>End of Black Friday Ads Campaign</td>\n",
       "      <td>ZONE_CODE15</td>\n",
       "    </tr>\n",
       "    <tr>\n",
       "      <th>1</th>\n",
       "      <td>CCBE9E7E99F94A08</td>\n",
       "      <td>2020-12-01 00:00:11</td>\n",
       "      <td>registration</td>\n",
       "      <td>0.0</td>\n",
       "    </tr>\n",
       "    <tr>\n",
       "      <th>2</th>\n",
       "      <td>GLOBAL</td>\n",
       "      <td>2020-12-01 00:00:25</td>\n",
       "      <td>product_page</td>\n",
       "      <td>NaN</td>\n",
       "    </tr>\n",
       "    <tr>\n",
       "      <th>3</th>\n",
       "      <td>CCBE9E7E99F94A08</td>\n",
       "      <td>2020-12-01 00:00:33</td>\n",
       "      <td>login</td>\n",
       "      <td>NaN</td>\n",
       "    </tr>\n",
       "    <tr>\n",
       "      <th>4</th>\n",
       "      <td>CCBE9E7E99F94A08</td>\n",
       "      <td>2020-12-01 00:00:52</td>\n",
       "      <td>product_page</td>\n",
       "      <td>NaN</td>\n",
       "    </tr>\n",
       "  </tbody>\n",
       "</table>\n",
       "</div>"
      ],
      "text/plain": [
       "            user_id            event_dt                        event_name  \\\n",
       "0            GLOBAL 2020-12-01 00:00:00  End of Black Friday Ads Campaign   \n",
       "1  CCBE9E7E99F94A08 2020-12-01 00:00:11                      registration   \n",
       "2            GLOBAL 2020-12-01 00:00:25                      product_page   \n",
       "3  CCBE9E7E99F94A08 2020-12-01 00:00:33                             login   \n",
       "4  CCBE9E7E99F94A08 2020-12-01 00:00:52                      product_page   \n",
       "\n",
       "       details  \n",
       "0  ZONE_CODE15  \n",
       "1          0.0  \n",
       "2          NaN  \n",
       "3          NaN  \n",
       "4          NaN  "
      ]
     },
     "metadata": {},
     "output_type": "display_data"
    },
    {
     "name": "stdout",
     "output_type": "stream",
     "text": [
      "<class 'pandas.core.frame.DataFrame'>\n",
      "RangeIndex: 787286 entries, 0 to 787285\n",
      "Data columns (total 4 columns):\n",
      " #   Column      Non-Null Count   Dtype         \n",
      "---  ------      --------------   -----         \n",
      " 0   user_id     787286 non-null  object        \n",
      " 1   event_dt    787286 non-null  datetime64[ns]\n",
      " 2   event_name  787286 non-null  object        \n",
      " 3   details     249022 non-null  object        \n",
      "dtypes: datetime64[ns](1), object(3)\n",
      "memory usage: 24.0+ MB\n"
     ]
    }
   ],
   "source": [
    "# Проверяем загруженные данные\n",
    "display(events.shape[0])\n",
    "display(events.head())\n",
    "events.info()"
   ]
  },
  {
   "cell_type": "code",
   "execution_count": 18,
   "id": "77daadd3",
   "metadata": {},
   "outputs": [
    {
     "name": "stdout",
     "output_type": "stream",
     "text": [
      "Кол-во дубликатов в датафрейме events: 36318 шт.\n"
     ]
    }
   ],
   "source": [
    "# Проверяем события на дубликаты\n",
    "sum_duplicated_events = events.duplicated().sum()\n",
    "\n",
    "print(f'Кол-во дубликатов в датафрейме events: {sum_duplicated_events} шт.')"
   ]
  },
  {
   "cell_type": "code",
   "execution_count": 19,
   "id": "763d068f",
   "metadata": {},
   "outputs": [
    {
     "name": "stdout",
     "output_type": "stream",
     "text": [
      "Кол-во дубликатов в датафрейме events: 0 шт.\n"
     ]
    }
   ],
   "source": [
    "# Удаляем дубликаты\n",
    "events = events.drop_duplicates()\n",
    "\n",
    "# Проверяем события на дубликаты\n",
    "sum_duplicated_events = events.duplicated().sum()\n",
    "\n",
    "print(f'Кол-во дубликатов в датафрейме events: {sum_duplicated_events} шт.')"
   ]
  },
  {
   "cell_type": "markdown",
   "id": "CnzA-efasUrk",
   "metadata": {
    "id": "CnzA-efasUrk"
   },
   "source": [
    "## 3. Оцениваем корректность проведения теста по таблице `ab_test_participants` :\n",
    "\n",
    "   3\\.1 Выделяем пользователей, участвующих в тесте, и проверяем следующее:\n",
    "\n",
    "   - соответствие требованиям технического задания,\n",
    "\n",
    "   - равномерность распределения пользователей по группам теста,\n",
    "\n",
    "   - отсутствие пересечений с конкурирующим тестом (нет пользователей, участвующих одновременно в двух тестовых группах)."
   ]
  },
  {
   "cell_type": "code",
   "execution_count": 20,
   "id": "aNa3zHrKslEN",
   "metadata": {
    "id": "aNa3zHrKslEN",
    "trusted": false
   },
   "outputs": [
    {
     "name": "stdout",
     "output_type": "stream",
     "text": [
      "Кол-во пользователей в тесте interface_eu_test: 10734\n",
      "Группы в эксперименте: ['B' 'A']\n"
     ]
    }
   ],
   "source": [
    "# Проверяем соответствие ТЗ\n",
    "ab_test_participants = participants[participants['ab_test'] == 'interface_eu_test'].copy()\n",
    "\n",
    "# Удаляем пользователей из группы B, которые попали в несколько тестов\n",
    "ab_test_participants = ab_test_participants[~ab_test_participants['user_id'].isin(intersection_participants)].copy()\n",
    "\n",
    "print(f'Кол-во пользователей в тесте interface_eu_test: {ab_test_participants.shape[0]}')\n",
    "\n",
    "print('Группы в эксперименте:', ab_test_participants['group'].unique())"
   ]
  },
  {
   "cell_type": "code",
   "execution_count": 21,
   "id": "a06884fd",
   "metadata": {
    "trusted": false
   },
   "outputs": [
    {
     "name": "stdout",
     "output_type": "stream",
     "text": [
      "Разница пользователей в группе составляет 0.59%\n"
     ]
    },
    {
     "data": {
      "image/png": "[encoded data removed]",
      "text/plain": [
       "<Figure size 1000x600 with 1 Axes>"
      ]
     },
     "metadata": {},
     "output_type": "display_data"
    }
   ],
   "source": [
    "# Проверяем равномерность распределения пользователей по группам\n",
    "users_group = ab_test_participants.groupby('group')['user_id'].nunique()\n",
    "\n",
    "diff_cnt_user = round(100 - users_group['B'] / users_group['A'] * 100, 2)\n",
    "print(f'Разница пользователей в группе составляет {diff_cnt_user}%')\n",
    "\n",
    "# Создаем столбчатую диаграмму для отображения кол-ва клиентов в каждом городе\n",
    "plt.figure(figsize=(10, 6))\n",
    "users_group.plot.bar()\n",
    "\n",
    "plt.xlabel('Город')\n",
    "plt.ylabel('Кол-во пользователей')\n",
    "plt.xticks(rotation=0)\n",
    "plt.title('Кол-во пользователей в каждом городе')\n",
    "\n",
    "for idx, value in enumerate(users_group):\n",
    "    plt.text(idx, value + max(users_group)*0.01, str(value), ha='center', va='bottom', fontsize=9)\n",
    "\n",
    "plt.show()"
   ]
  },
  {
   "cell_type": "code",
   "execution_count": 22,
   "id": "2207325b",
   "metadata": {
    "trusted": false
   },
   "outputs": [
    {
     "name": "stdout",
     "output_type": "stream",
     "text": [
      "Кол-во дубликатов по колонке user_id: 0 шт.\n"
     ]
    }
   ],
   "source": [
    "# Проверяем кол-во дубликатов\n",
    "cnt_duplicated = ab_test_participants.duplicated(subset='user_id').sum()\n",
    "print(f'Кол-во дубликатов по колонке user_id: {cnt_duplicated} шт.')"
   ]
  },
  {
   "cell_type": "code",
   "execution_count": 23,
   "id": "0fa6b393",
   "metadata": {
    "trusted": false
   },
   "outputs": [
    {
     "name": "stdout",
     "output_type": "stream",
     "text": [
      "Пересечений пользователей в группах нет\n"
     ]
    }
   ],
   "source": [
    "intersection = len(list(set(ab_test_participants[ab_test_participants['group']=='A']['user_id']) \n",
    "                    & set(ab_test_participants[ab_test_participants['group']=='B']['user_id'])))\n",
    "\n",
    "if intersection == 0:\n",
    "    print('Пересечений пользователей в группах нет')\n",
    "else:\n",
    "    print(f'Кол-во пересекающихся пользователей: {intersection}')"
   ]
  },
  {
   "cell_type": "markdown",
   "id": "e79eb3c6",
   "metadata": {},
   "source": [
    "<div style=\"background-color:rgb(205, 247, 214); padding: 10px; border-radius: 5px; color: black; border-color: black\">\n",
    "\n",
    "**Наблюдение:**\n",
    "\n",
    "- Данные соответствуют ТЗ;\n",
    "- Группы распределены равномерно с небольшой погрешностью в 0.6%;\n",
    "- Дубликатов и пересечений пользователей нет.\n",
    "\n",
    "</div>"
   ]
  },
  {
   "cell_type": "markdown",
   "id": "GjulgSrlsqUU",
   "metadata": {
    "id": "GjulgSrlsqUU"
   },
   "source": [
    "3\\.2 Проанализируем данные о пользовательской активности по таблице `ab_test_events`:\n",
    "\n",
    "- оставляем только события, связанные с участвующими в изучаемом тесте пользователями;"
   ]
  },
  {
   "cell_type": "code",
   "execution_count": 24,
   "id": "56f280c3",
   "metadata": {
    "trusted": false
   },
   "outputs": [
    {
     "name": "stdout",
     "output_type": "stream",
     "text": [
      "Всего событий в тесте: 72935\n"
     ]
    },
    {
     "data": {
      "text/html": [
       "<div>\n",
       "<style scoped>\n",
       "    .dataframe tbody tr th:only-of-type {\n",
       "        vertical-align: middle;\n",
       "    }\n",
       "\n",
       "    .dataframe tbody tr th {\n",
       "        vertical-align: top;\n",
       "    }\n",
       "\n",
       "    .dataframe thead th {\n",
       "        text-align: right;\n",
       "    }\n",
       "</style>\n",
       "<table border=\"1\" class=\"dataframe\">\n",
       "  <thead>\n",
       "    <tr style=\"text-align: right;\">\n",
       "      <th></th>\n",
       "      <th>user_id</th>\n",
       "      <th>event_dt</th>\n",
       "      <th>event_name</th>\n",
       "      <th>details</th>\n",
       "    </tr>\n",
       "  </thead>\n",
       "  <tbody>\n",
       "    <tr>\n",
       "      <th>64672</th>\n",
       "      <td>5F506CEBEDC05D30</td>\n",
       "      <td>2020-12-06 14:10:01</td>\n",
       "      <td>registration</td>\n",
       "      <td>0.0</td>\n",
       "    </tr>\n",
       "    <tr>\n",
       "      <th>64946</th>\n",
       "      <td>51278A006E918D97</td>\n",
       "      <td>2020-12-06 14:37:25</td>\n",
       "      <td>registration</td>\n",
       "      <td>-3.8</td>\n",
       "    </tr>\n",
       "    <tr>\n",
       "      <th>66585</th>\n",
       "      <td>A0C1E8EFAD874D8B</td>\n",
       "      <td>2020-12-06 17:20:22</td>\n",
       "      <td>registration</td>\n",
       "      <td>-3.32</td>\n",
       "    </tr>\n",
       "    <tr>\n",
       "      <th>67873</th>\n",
       "      <td>275A8D6254ACF530</td>\n",
       "      <td>2020-12-06 19:36:54</td>\n",
       "      <td>registration</td>\n",
       "      <td>-0.48</td>\n",
       "    </tr>\n",
       "    <tr>\n",
       "      <th>67930</th>\n",
       "      <td>0B704EB2DC7FCA4B</td>\n",
       "      <td>2020-12-06 19:42:20</td>\n",
       "      <td>registration</td>\n",
       "      <td>0.0</td>\n",
       "    </tr>\n",
       "  </tbody>\n",
       "</table>\n",
       "</div>"
      ],
      "text/plain": [
       "                user_id            event_dt    event_name details\n",
       "64672  5F506CEBEDC05D30 2020-12-06 14:10:01  registration     0.0\n",
       "64946  51278A006E918D97 2020-12-06 14:37:25  registration    -3.8\n",
       "66585  A0C1E8EFAD874D8B 2020-12-06 17:20:22  registration   -3.32\n",
       "67873  275A8D6254ACF530 2020-12-06 19:36:54  registration   -0.48\n",
       "67930  0B704EB2DC7FCA4B 2020-12-06 19:42:20  registration     0.0"
      ]
     },
     "execution_count": 24,
     "metadata": {},
     "output_type": "execute_result"
    }
   ],
   "source": [
    "test_user_ids = ab_test_participants['user_id'].unique()\n",
    "ab_test_events = events[events['user_id'].isin(test_user_ids)].copy()\n",
    "\n",
    "print(f'Всего событий в тесте: {ab_test_events.shape[0]}')\n",
    "\n",
    "ab_test_events.head()"
   ]
  },
  {
   "cell_type": "markdown",
   "id": "fBZ4DC2xswZJ",
   "metadata": {
    "id": "fBZ4DC2xswZJ"
   },
   "source": [
    "- определяем горизонт анализа: рассчитываем время (лайфтайм) совершения события пользователем после регистрации и оставляем только те события, которые были выполнены в течение первых семи дней с момента регистрации;"
   ]
  },
  {
   "cell_type": "code",
   "execution_count": 25,
   "id": "sES4-dKts0Yb",
   "metadata": {
    "id": "sES4-dKts0Yb",
    "trusted": false
   },
   "outputs": [],
   "source": [
    "# Получим дату регистрации для каждого пользователя\n",
    "registrations = (\n",
    "    ab_test_events[ab_test_events['event_name'] == 'registration']\n",
    "    .groupby('user_id', as_index=False)['event_dt']\n",
    "    .min()).copy()\n",
    "registrations = registrations.rename(columns={'event_dt': 'registration_dt'})"
   ]
  },
  {
   "cell_type": "code",
   "execution_count": 26,
   "id": "85aa0cff",
   "metadata": {
    "trusted": false
   },
   "outputs": [],
   "source": [
    "# Объединим дф с событиями и дф с регистрацией\n",
    "ab_test_events = ab_test_events.merge(registrations, on='user_id', how='left')\n",
    "\n",
    "# Считаем разницу между датой события и датой регистрации\n",
    "ab_test_events['days_from_registration'] = (ab_test_events['event_dt'] - ab_test_events['registration_dt']).dt.days"
   ]
  },
  {
   "cell_type": "code",
   "execution_count": 27,
   "id": "e931992a",
   "metadata": {
    "trusted": false
   },
   "outputs": [
    {
     "name": "stdout",
     "output_type": "stream",
     "text": [
      "Событий в течение первых 7 дней после регистрации: 62934\n"
     ]
    },
    {
     "data": {
      "text/html": [
       "<div>\n",
       "<style scoped>\n",
       "    .dataframe tbody tr th:only-of-type {\n",
       "        vertical-align: middle;\n",
       "    }\n",
       "\n",
       "    .dataframe tbody tr th {\n",
       "        vertical-align: top;\n",
       "    }\n",
       "\n",
       "    .dataframe thead th {\n",
       "        text-align: right;\n",
       "    }\n",
       "</style>\n",
       "<table border=\"1\" class=\"dataframe\">\n",
       "  <thead>\n",
       "    <tr style=\"text-align: right;\">\n",
       "      <th></th>\n",
       "      <th>user_id</th>\n",
       "      <th>event_dt</th>\n",
       "      <th>event_name</th>\n",
       "      <th>details</th>\n",
       "      <th>registration_dt</th>\n",
       "      <th>days_from_registration</th>\n",
       "    </tr>\n",
       "  </thead>\n",
       "  <tbody>\n",
       "    <tr>\n",
       "      <th>541</th>\n",
       "      <td>0002CE61FF2C4011</td>\n",
       "      <td>2020-12-07 04:37:31</td>\n",
       "      <td>registration</td>\n",
       "      <td>-2.38</td>\n",
       "      <td>2020-12-07 04:37:31</td>\n",
       "      <td>0</td>\n",
       "    </tr>\n",
       "    <tr>\n",
       "      <th>542</th>\n",
       "      <td>0002CE61FF2C4011</td>\n",
       "      <td>2020-12-07 04:37:49</td>\n",
       "      <td>login</td>\n",
       "      <td>NaN</td>\n",
       "      <td>2020-12-07 04:37:31</td>\n",
       "      <td>0</td>\n",
       "    </tr>\n",
       "    <tr>\n",
       "      <th>543</th>\n",
       "      <td>0002CE61FF2C4011</td>\n",
       "      <td>2020-12-07 04:37:57</td>\n",
       "      <td>login</td>\n",
       "      <td>NaN</td>\n",
       "      <td>2020-12-07 04:37:31</td>\n",
       "      <td>0</td>\n",
       "    </tr>\n",
       "    <tr>\n",
       "      <th>545</th>\n",
       "      <td>0002CE61FF2C4011</td>\n",
       "      <td>2020-12-07 04:38:54</td>\n",
       "      <td>login</td>\n",
       "      <td>NaN</td>\n",
       "      <td>2020-12-07 04:37:31</td>\n",
       "      <td>0</td>\n",
       "    </tr>\n",
       "    <tr>\n",
       "      <th>4890</th>\n",
       "      <td>0002CE61FF2C4011</td>\n",
       "      <td>2020-12-08 22:15:35</td>\n",
       "      <td>login</td>\n",
       "      <td>NaN</td>\n",
       "      <td>2020-12-07 04:37:31</td>\n",
       "      <td>1</td>\n",
       "    </tr>\n",
       "  </tbody>\n",
       "</table>\n",
       "</div>"
      ],
      "text/plain": [
       "               user_id            event_dt    event_name details  \\\n",
       "541   0002CE61FF2C4011 2020-12-07 04:37:31  registration   -2.38   \n",
       "542   0002CE61FF2C4011 2020-12-07 04:37:49         login     NaN   \n",
       "543   0002CE61FF2C4011 2020-12-07 04:37:57         login     NaN   \n",
       "545   0002CE61FF2C4011 2020-12-07 04:38:54         login     NaN   \n",
       "4890  0002CE61FF2C4011 2020-12-08 22:15:35         login     NaN   \n",
       "\n",
       "         registration_dt  days_from_registration  \n",
       "541  2020-12-07 04:37:31                       0  \n",
       "542  2020-12-07 04:37:31                       0  \n",
       "543  2020-12-07 04:37:31                       0  \n",
       "545  2020-12-07 04:37:31                       0  \n",
       "4890 2020-12-07 04:37:31                       1  "
      ]
     },
     "execution_count": 27,
     "metadata": {},
     "output_type": "execute_result"
    }
   ],
   "source": [
    "# Фильтруем события, совершённые в течение первых 7 дней после регистр.\n",
    "ab_test_events_7d = ab_test_events[(ab_test_events['days_from_registration'] < 7)].reset_index(drop=True).copy()\n",
    "# ab_test_events_7d = ab_test_events[(ab_test_events['event_name'] != 'registration')].reset_index(drop=True)\n",
    "\n",
    "\n",
    "print(f'Событий в течение первых 7 дней после регистрации: {ab_test_events_7d.shape[0]}')\n",
    "ab_test_events_7d.sort_values(by=['user_id', 'event_dt'], ascending=True).head()"
   ]
  },
  {
   "cell_type": "markdown",
   "id": "7cf1df48",
   "metadata": {},
   "source": [
    "Оцениаем достаточность выборки для получения статистически значимых результатов A/B-теста. Заданные параметры:\n",
    "\n",
    "- базовый показатель конверсии — 30%,\n",
    "\n",
    "- Ожидаемый прирост конверсии - 3%,\n",
    "\n",
    "- мощность теста — 80%,\n",
    "\n",
    "- достоверность теста — 95%."
   ]
  },
  {
   "cell_type": "code",
   "execution_count": 28,
   "id": "7d97b466",
   "metadata": {
    "trusted": false
   },
   "outputs": [
    {
     "name": "stdout",
     "output_type": "stream",
     "text": [
      "Необходимый размер выборки для каждой группы: 2963\n"
     ]
    }
   ],
   "source": [
    "# Задаём параметры\n",
    "alpha = 0.05  # Уровень значимости\n",
    "beta = 0.2  # Ошибка второго рода, часто 1 - мощность\n",
    "power = 1 - beta  # Мощность теста\n",
    "p = 0.3 # Базовый показатель конверсии\n",
    "mde = 0.03 # Минимальный детектируемый эффект\n",
    "\n",
    "# Инициализируем класс NormalIndPower\n",
    "power_analysis = NormalIndPower()\n",
    "\n",
    "# Рассчитываем размер выборки\n",
    "sample_size = power_analysis.solve_power(\n",
    "    effect_size = abs(2 *  (np.arcsin(np.sqrt(p)) - np.arcsin(np.sqrt(p + mde)))),\n",
    "    power = power,\n",
    "    alpha = alpha,\n",
    "    ratio = 1,\n",
    "    alternative='larger'\n",
    ")\n",
    "\n",
    "print(f\"Необходимый размер выборки для каждой группы: {int(sample_size)}\")"
   ]
  },
  {
   "cell_type": "markdown",
   "id": "f6fbf88c",
   "metadata": {},
   "source": [
    "<div style=\"background-color:rgb(205, 247, 214); padding: 10px; border-radius: 5px; color: black; border-color: black\">\n",
    "\n",
    "**Наблюдение:**\n",
    "\n",
    "- При оценке достаточности выборки выявлено, что размер каждой группы должен составить 2963\n",
    "- Кол-во пользователей в группах более 5000\n",
    "\n",
    "Следовательно, можно сделать вывод, что пользователей в группах достаточно для проведения и корректной оценки результатов.\n",
    "\n",
    "</div>"
   ]
  },
  {
   "cell_type": "markdown",
   "id": "SadyUDgZs0t3",
   "metadata": {
    "id": "SadyUDgZs0t3"
   },
   "source": [
    "- рассчитываем для каждой группы количество посетителей, сделавших покупку, и общее количество посетителей."
   ]
  },
  {
   "cell_type": "code",
   "execution_count": 29,
   "id": "18a6d084",
   "metadata": {
    "trusted": false
   },
   "outputs": [],
   "source": [
    "# Объединяем датафреймы \n",
    "merge_df = ab_test_participants.merge(ab_test_events_7d, how='left', on='user_id')"
   ]
  },
  {
   "cell_type": "code",
   "execution_count": 30,
   "id": "864fb652",
   "metadata": {},
   "outputs": [
    {
     "data": {
      "text/html": [
       "<div>\n",
       "<style scoped>\n",
       "    .dataframe tbody tr th:only-of-type {\n",
       "        vertical-align: middle;\n",
       "    }\n",
       "\n",
       "    .dataframe tbody tr th {\n",
       "        vertical-align: top;\n",
       "    }\n",
       "\n",
       "    .dataframe thead th {\n",
       "        text-align: right;\n",
       "    }\n",
       "</style>\n",
       "<table border=\"1\" class=\"dataframe\">\n",
       "  <thead>\n",
       "    <tr style=\"text-align: right;\">\n",
       "      <th>event_name</th>\n",
       "      <th>purchase</th>\n",
       "      <th>registration</th>\n",
       "      <th>conversion</th>\n",
       "    </tr>\n",
       "    <tr>\n",
       "      <th>group</th>\n",
       "      <th></th>\n",
       "      <th></th>\n",
       "      <th></th>\n",
       "    </tr>\n",
       "  </thead>\n",
       "  <tbody>\n",
       "    <tr>\n",
       "      <th>A</th>\n",
       "      <td>1480</td>\n",
       "      <td>5383</td>\n",
       "      <td>0.275</td>\n",
       "    </tr>\n",
       "    <tr>\n",
       "      <th>B</th>\n",
       "      <td>1579</td>\n",
       "      <td>5351</td>\n",
       "      <td>0.295</td>\n",
       "    </tr>\n",
       "  </tbody>\n",
       "</table>\n",
       "</div>"
      ],
      "text/plain": [
       "event_name  purchase  registration  conversion\n",
       "group                                         \n",
       "A               1480          5383       0.275\n",
       "B               1579          5351       0.295"
      ]
     },
     "execution_count": 30,
     "metadata": {},
     "output_type": "execute_result"
    }
   ],
   "source": [
    "# Создаем сводную таблицу\n",
    "pivot_table_merge_df = merge_df[merge_df['event_name'].isin(['registration', 'purchase'])].pivot_table(index='group',\n",
    "                                                                    columns='event_name',\n",
    "                                                                    values='user_id',\n",
    "                                                                    aggfunc='nunique')\n",
    "\n",
    "pivot_table_merge_df['conversion'] = round(pivot_table_merge_df['purchase'] / pivot_table_merge_df['registration'], 3)\n",
    "pivot_table_merge_df"
   ]
  },
  {
   "cell_type": "code",
   "execution_count": 31,
   "id": "ac8f2308",
   "metadata": {},
   "outputs": [
    {
     "name": "stdout",
     "output_type": "stream",
     "text": [
      "Разница пользователей в группе составляет 7.27%\n"
     ]
    }
   ],
   "source": [
    "# Считаем процентную разницу конверсии групп\n",
    "diff_conversion = round(100 * (abs(pivot_table_merge_df.loc['A']['conversion'] \n",
    "                                   - pivot_table_merge_df.loc['B']['conversion']) \n",
    "                                   / pivot_table_merge_df.loc['A']['conversion']), 2)\n",
    "print(f'Разница пользователей в группе составляет {diff_conversion}%')"
   ]
  },
  {
   "cell_type": "markdown",
   "id": "sh1JpGvAs5E3",
   "metadata": {
    "id": "sh1JpGvAs5E3"
   },
   "source": [
    "- Предварительный общий вывод об изменении пользовательской активности в тестовой группе по сравнению с контрольной."
   ]
  },
  {
   "cell_type": "markdown",
   "id": "hHTHPkJYs8mE",
   "metadata": {
    "id": "hHTHPkJYs8mE"
   },
   "source": [
    "<div style=\"background-color:rgb(205, 247, 214); padding: 10px; border-radius: 5px; color: black; border-color: black\">\n",
    "\n",
    "**Наблюдение:**\n",
    "\n",
    "- Кол-во событий, которые совершили клиенты, попавшие в тест, составило 72935;\n",
    "- Из них 62934 событий совершено в течение первых 7 дней после регистрации;\n",
    "- Для проведения теста рассчитали необходимый размер выборки для каждой группы - 2963;\n",
    "- **Не достигнут ожидаемый прирост конверсии в 3%. Изменение в конверсии составило 2%, а процентная разница между группами составила 7%**\n",
    "\n",
    "Необходимо провести статистический тест, чтобы доказать, что на изменение метрики связано с новым дизайном, а не случайным изменением показателя.\n",
    "\n",
    "</div>"
   ]
  },
  {
   "cell_type": "markdown",
   "id": "IKZ1Oo3Ws919",
   "metadata": {
    "id": "IKZ1Oo3Ws919"
   },
   "source": [
    "## 4. Проведем оценку результатов A/B-тестирования:"
   ]
  },
  {
   "cell_type": "markdown",
   "id": "dcUdBSmvtC-E",
   "metadata": {
    "id": "dcUdBSmvtC-E"
   },
   "source": [
    "- Проверяем изменение конверсии подходящим статистическим тестом, учитывая все этапы проверки гипотез."
   ]
  },
  {
   "cell_type": "markdown",
   "id": "9df7d26c",
   "metadata": {},
   "source": [
    "<div style=\"background-color:rgb(205, 247, 214); padding: 10px; border-radius: 5px; color: black; border-color: black\">\n",
    "\n",
    "Так как метрика у нас долевая, то для проведения статистического теста будем использовать z-тест.\n",
    "\n",
    "Для начала проверим, выполняется ли предпосылка о достаточном кол-ве данных для проведения теста.\n",
    "\n",
    "</div>"
   ]
  },
  {
   "cell_type": "code",
   "execution_count": 32,
   "id": "l_KOziBQtL3t",
   "metadata": {
    "id": "l_KOziBQtL3t",
    "trusted": false
   },
   "outputs": [
    {
     "name": "stdout",
     "output_type": "stream",
     "text": [
      "Предпосылка о достаточном количестве данных выполняется\n"
     ]
    }
   ],
   "source": [
    "# Считаем размер выборок в тестовых группах\n",
    "n_a = pivot_table_merge_df.loc['A']['registration']\n",
    "n_b = pivot_table_merge_df.loc['B']['registration']\n",
    "\n",
    "# Считаем кол-во покупок\n",
    "m_a = pivot_table_merge_df.loc['A']['purchase']\n",
    "m_b = pivot_table_merge_df.loc['B']['purchase']\n",
    "\n",
    "# Считаем конверсию \n",
    "p_a = m_a / n_a\n",
    "p_b = m_b / n_b\n",
    "\n",
    "# Проверяем предпосылку о достаточности данных\n",
    "if (p_a*n_a > 10)and((1-p_a)*n_a > 10)and(p_b*n_b > 10)and((1-p_b)*n_b > 10):\n",
    "    print('Предпосылка о достаточном количестве данных выполняется')\n",
    "else:\n",
    "    print('Предпосылка о достаточном количестве данных НЕ выполняется')"
   ]
  },
  {
   "cell_type": "markdown",
   "id": "2c3431c2",
   "metadata": {},
   "source": [
    "<div style=\"background-color:rgb(202, 246, 252); padding: 10px; border-radius: 5px; color: black; border-color: black\">\n",
    "\n",
    "Сформулируем гипотезы для проведения стат теста:\n",
    "\n",
    "- H0: Конверсия в контрольной группе (`B`) не больше, чем в тестовой группе (`A`) (CR B ≤ CR A)\n",
    "- H1: Конверсия в контрольной группе (`B`) выше, чем в тестовой группе (`A`) (CR B > CR A)\n",
    "\n",
    "</div>"
   ]
  },
  {
   "cell_type": "code",
   "execution_count": 33,
   "id": "fc531584",
   "metadata": {},
   "outputs": [
    {
     "name": "stdout",
     "output_type": "stream",
     "text": [
      "pvalue=0.010393282955333764 < 0.05\n",
      "Нулевая гипотеза не находит подтверждения!\n"
     ]
    }
   ],
   "source": [
    "# Проводим односторонний статистический тест с помощью z-теста\n",
    "stat_ztest, p_value_ztest = proportions_ztest(\n",
    "    [m_b, m_a],\n",
    "    [n_b, n_a],\n",
    "    alternative='larger'\n",
    ")\n",
    "if p_value_ztest > alpha:\n",
    "    print(f'pvalue={p_value_ztest} > {alpha}')\n",
    "    print('Нулевая гипотеза находит подтверждение!')\n",
    "else:\n",
    "    print(f'pvalue={p_value_ztest} < {alpha}')\n",
    "    print('Нулевая гипотеза не находит подтверждения!')"
   ]
  },
  {
   "cell_type": "markdown",
   "id": "9jkyKOjgtGoc",
   "metadata": {
    "id": "9jkyKOjgtGoc"
   },
   "source": [
    "- Описываем выводы по проведённой оценке результатов A/B-тестирования:"
   ]
  },
  {
   "cell_type": "markdown",
   "id": "npoPPSKytKvR",
   "metadata": {
    "id": "npoPPSKytKvR"
   },
   "source": [
    "<div style=\"background-color:rgb(205, 247, 214); padding: 10px; border-radius: 5px; color: black; border-color: black\">\n",
    "\n",
    "**Вывод:**\n",
    "\n",
    "В рамках проекта был проведен A/B-тест по обновлению сайта.\n",
    "\n",
    "При проведении анализа выполнено следующее:\n",
    "\n",
    "- Проверили, что данные соответствуют техническому заданию;\n",
    "- Проверили корректность проведения теста - группы распределены равномерно;\n",
    "- оценили достаточность выборки - данных достаточно для проведения теста;\n",
    "- Выявили изменение конверсии в группах - в тестовой группе конверсия оказалась на 2% выше, чем в контрольной группе (т.е. процентная разница составила 7%);\n",
    "- Изменение конверсии проверено статистическим тестом с помощью z-теста - мы получили значение p-value = 0.01, что меньше уровня статистической значимости, а значит, что с текущими выборками и результатами по ним не смогли подтвердить нулевую гипотезу, т.е. НЕ смогли доказать, что в контрольной группе конверсия не больше, чем в тестовой.\n",
    "\n",
    "Конверсия увеличилась (что также подтверждено статистически), при этом ожидаемый прирост конверсии не был достигнут. Поэтому рекомендации следующие:\n",
    "- Обсудить, достаточно ли экономически выявленного прироста конверсии в 2% - если да - можно раскатывать упрощенную версию сайта;\n",
    "- Если не достаточно - рассмотреть вариант проведения повторного теста с изменением параметров (более точные выборки, сокращение mde).\n",
    "\n",
    "</div>"
   ]
  }
 ],
 "metadata": {
  "ExecuteTimeLog": [
   {
    "duration": 1294,
    "start_time": "2025-06-03T17:20:41.608Z"
   },
   {
    "duration": 0,
    "start_time": "2025-06-03T17:20:42.905Z"
   },
   {
    "duration": 0,
    "start_time": "2025-06-03T17:20:42.906Z"
   },
   {
    "duration": 0,
    "start_time": "2025-06-03T17:20:42.908Z"
   },
   {
    "duration": 0,
    "start_time": "2025-06-03T17:20:42.908Z"
   },
   {
    "duration": 0,
    "start_time": "2025-06-03T17:20:42.909Z"
   },
   {
    "duration": 1,
    "start_time": "2025-06-03T17:20:42.910Z"
   },
   {
    "duration": 0,
    "start_time": "2025-06-03T17:20:42.912Z"
   },
   {
    "duration": 0,
    "start_time": "2025-06-03T17:20:42.913Z"
   },
   {
    "duration": 0,
    "start_time": "2025-06-03T17:20:42.913Z"
   },
   {
    "duration": 0,
    "start_time": "2025-06-03T17:20:42.914Z"
   },
   {
    "duration": 0,
    "start_time": "2025-06-03T17:20:42.916Z"
   },
   {
    "duration": 0,
    "start_time": "2025-06-03T17:20:42.917Z"
   },
   {
    "duration": 0,
    "start_time": "2025-06-03T17:20:42.918Z"
   },
   {
    "duration": 0,
    "start_time": "2025-06-03T17:20:42.919Z"
   },
   {
    "duration": 0,
    "start_time": "2025-06-03T17:20:42.920Z"
   },
   {
    "duration": 0,
    "start_time": "2025-06-03T17:20:42.921Z"
   },
   {
    "duration": 0,
    "start_time": "2025-06-03T17:20:42.922Z"
   },
   {
    "duration": 0,
    "start_time": "2025-06-03T17:20:42.923Z"
   },
   {
    "duration": 0,
    "start_time": "2025-06-03T17:20:42.924Z"
   },
   {
    "duration": 0,
    "start_time": "2025-06-03T17:20:42.961Z"
   },
   {
    "duration": 0,
    "start_time": "2025-06-03T17:20:42.962Z"
   },
   {
    "duration": 0,
    "start_time": "2025-06-03T17:20:42.963Z"
   },
   {
    "duration": 0,
    "start_time": "2025-06-03T17:20:42.964Z"
   },
   {
    "duration": 0,
    "start_time": "2025-06-03T17:20:42.965Z"
   },
   {
    "duration": 0,
    "start_time": "2025-06-03T17:20:42.966Z"
   },
   {
    "duration": 0,
    "start_time": "2025-06-03T17:20:42.967Z"
   },
   {
    "duration": 0,
    "start_time": "2025-06-03T17:20:42.968Z"
   },
   {
    "duration": 0,
    "start_time": "2025-06-03T17:20:42.970Z"
   },
   {
    "duration": 0,
    "start_time": "2025-06-03T17:20:42.971Z"
   },
   {
    "duration": 1226,
    "start_time": "2025-06-03T17:20:57.306Z"
   },
   {
    "duration": 106,
    "start_time": "2025-06-03T17:20:58.534Z"
   },
   {
    "duration": 5,
    "start_time": "2025-06-03T17:20:58.641Z"
   },
   {
    "duration": 14,
    "start_time": "2025-06-03T17:20:58.648Z"
   },
   {
    "duration": 6,
    "start_time": "2025-06-03T17:20:58.664Z"
   },
   {
    "duration": 168,
    "start_time": "2025-06-03T17:20:58.671Z"
   },
   {
    "duration": 30,
    "start_time": "2025-06-03T17:20:58.841Z"
   },
   {
    "duration": 313,
    "start_time": "2025-06-03T17:20:58.873Z"
   },
   {
    "duration": 317,
    "start_time": "2025-06-03T17:20:59.188Z"
   },
   {
    "duration": 232,
    "start_time": "2025-06-03T17:20:59.509Z"
   },
   {
    "duration": 159,
    "start_time": "2025-06-03T17:20:59.743Z"
   },
   {
    "duration": 15,
    "start_time": "2025-06-03T17:20:59.904Z"
   },
   {
    "duration": 1788,
    "start_time": "2025-06-03T17:20:59.920Z"
   },
   {
    "duration": 19,
    "start_time": "2025-06-03T17:21:01.709Z"
   },
   {
    "duration": 153,
    "start_time": "2025-06-03T17:21:01.730Z"
   },
   {
    "duration": 8,
    "start_time": "2025-06-03T17:21:01.884Z"
   },
   {
    "duration": 155,
    "start_time": "2025-06-03T17:21:01.893Z"
   },
   {
    "duration": 12,
    "start_time": "2025-06-03T17:21:02.049Z"
   },
   {
    "duration": 53,
    "start_time": "2025-06-03T17:21:02.062Z"
   },
   {
    "duration": 123,
    "start_time": "2025-06-03T17:21:02.117Z"
   },
   {
    "duration": 20,
    "start_time": "2025-06-03T17:21:02.241Z"
   },
   {
    "duration": 72,
    "start_time": "2025-06-03T17:21:02.262Z"
   },
   {
    "duration": 60,
    "start_time": "2025-06-03T17:21:02.336Z"
   },
   {
    "duration": 13,
    "start_time": "2025-06-03T17:21:02.398Z"
   },
   {
    "duration": 27,
    "start_time": "2025-06-03T17:21:02.413Z"
   },
   {
    "duration": 47,
    "start_time": "2025-06-03T17:21:02.442Z"
   },
   {
    "duration": 8,
    "start_time": "2025-06-03T17:21:02.490Z"
   },
   {
    "duration": 14,
    "start_time": "2025-06-03T17:21:02.501Z"
   },
   {
    "duration": 9,
    "start_time": "2025-06-03T17:21:02.516Z"
   },
   {
    "duration": 16,
    "start_time": "2025-06-03T17:21:02.526Z"
   }
  ],
  "colab": {
   "provenance": [],
   "toc_visible": true
  },
  "kernelspec": {
   "display_name": "base",
   "language": "python",
   "name": "python3"
  },
  "language_info": {
   "codemirror_mode": {
    "name": "ipython",
    "version": 3
   },
   "file_extension": ".py",
   "mimetype": "text/x-python",
   "name": "python",
   "nbconvert_exporter": "python",
   "pygments_lexer": "ipython3",
   "version": "3.12.7"
  },
  "toc": {
   "base_numbering": 1,
   "nav_menu": {},
   "number_sections": true,
   "sideBar": true,
   "skip_h1_title": true,
   "title_cell": "Table of Contents",
   "title_sidebar": "Contents",
   "toc_cell": false,
   "toc_position": {},
   "toc_section_display": true,
   "toc_window_display": false
  }
 },
 "nbformat": 4,
 "nbformat_minor": 5
}
