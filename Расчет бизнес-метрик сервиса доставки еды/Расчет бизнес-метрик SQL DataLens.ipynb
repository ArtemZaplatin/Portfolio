{
 "cells": [
  {
   "cell_type": "markdown",
   "id": "8a088f68",
   "metadata": {},
   "source": [
    "# Расчёт метрик сервиса доставки еды"
   ]
  },
  {
   "cell_type": "markdown",
   "id": "1d836f9e",
   "metadata": {},
   "source": [
    "1. Подготовить SQL-запросы для расчета метрик:\n",
    "- DAU (от англ. daily active users) — количество активных пользователей за день.\n",
    "- Conversion Rate — коэффициент конверсии.\n",
    "- Средний чек — средняя сумма покупки на пользователя.\n",
    "- LTV (от англ. lifetime value) — совокупная ценность клиента за период.\n",
    "- Retention Rate — коэффициент удержания пользователей.\n",
    "\n",
    "2. Создать визуализации в DataLens:\n",
    "- Для каждой метрики подготовить график для наглядного анализа"
   ]
  },
  {
   "cell_type": "markdown",
   "id": "8b4f1254",
   "metadata": {},
   "source": [
    "## 1. Расчет метрик"
   ]
  },
  {
   "cell_type": "markdown",
   "id": "205eda20",
   "metadata": {},
   "source": [
    "### 1. Расчёт DAU\n",
    "\n",
    "Рассчитаем ежедневное количество активных зарегистрированных клиентов (user_id) за май и июнь 2021 года в городе Саранске. Критерием активности клиента будем считать размещение заказа. Это позволит оценить эффективность вовлечения клиентов в ключевую бизнес-цель — совершение покупки."
   ]
  },
  {
   "cell_type": "code",
   "execution_count": null,
   "id": "4ad514e1",
   "metadata": {
    "vscode": {
     "languageId": "sql"
    }
   },
   "outputs": [],
   "source": [
    "SELECT\n",
    "    log_date,\n",
    "    count(distinct user_id) AS DAU\n",
    "FROM analytics_events AS ae\n",
    "JOIN cities AS c\n",
    "    on c.city_id = ae.city_id\n",
    "WHERE city_name = 'Саранск' AND (log_date between '2021-05-01' AND '2021-06-30') AND order_id is not null\n",
    "GROUP BY log_date\n",
    "ORDER BY log_date ASC"
   ]
  },
  {
   "cell_type": "markdown",
   "id": "3010ed83",
   "metadata": {},
   "source": [
    "### 2. Расчёт Conversion Rate\n",
    "\n",
    "Определим активность аудитории: как часто зарегистрированные пользователи переходят к размещению заказа, будет ли одинаковым этот показатель по дням или видны сезонные колебания в поведении пользователей. Рассчитаем конверсию зарегистрированных пользователей, которые посещают приложение, в активных клиентов."
   ]
  },
  {
   "cell_type": "code",
   "execution_count": null,
   "id": "f956affc",
   "metadata": {
    "vscode": {
     "languageId": "sql"
    }
   },
   "outputs": [],
   "source": [
    "SELECT\n",
    "    log_date, \n",
    "    round(count(distinct user_id) filter (WHERE event = 'main_page') / count(distinct user_id)::numeric, 2) AS cr\n",
    "FROM analytics_events AS a\n",
    "JOIN cities AS c\n",
    "    on c.city_id = a.city_id\n",
    "WHERE city_name = 'Саранск' AND log_date between '2021-05-01' AND '2021-06-30'\n",
    "GROUP BY log_date\n",
    "ORDER BY log_date ASC\n",
    "LIMIT 10"
   ]
  },
  {
   "cell_type": "markdown",
   "id": "5b511f4f",
   "metadata": {},
   "source": [
    "### 3. Расчёт среднего чека\n",
    "\n",
    "Рассчитаем средний чек активных клиентов в Саранске в мае и в июне."
   ]
  },
  {
   "cell_type": "code",
   "execution_count": null,
   "id": "90d40138",
   "metadata": {
    "vscode": {
     "languageId": "sql"
    }
   },
   "outputs": [],
   "source": [
    "-- Рассчитываем величину комиссии с каждого заказа, отбираем заказы по дате и городу\n",
    "WITH orders AS\n",
    "    (SELECT *,\n",
    "            revenue * commission AS commission_revenue\n",
    "     FROM analytics_events\n",
    "     JOIN cities ON analytics_events.city_id = cities.city_id\n",
    "     WHERE revenue IS NOT NULL\n",
    "         AND log_date BETWEEN '2021-05-01' AND '2021-06-30'\n",
    "         AND city_name = 'Саранск')\n",
    "\n",
    "SELECT\n",
    "    DATE_TRUNC('month', log_date)::date AS \"Месяц\",\n",
    "    count(distinct order_id) AS \"Количество заказов\",\n",
    "    round(sum(commission_revenue)::numeric, 2) AS \"Сумма комиссии\",\n",
    "    round(sum(commission_revenue)::numeric / count(distinct order_id), 2) AS \"Средний чек\"\n",
    "FROM orders\n",
    "GROUP BY DATE_TRUNC('month', log_date::date)\n",
    "ORDER BY \"Месяц\" ASC"
   ]
  },
  {
   "cell_type": "markdown",
   "id": "78993d98",
   "metadata": {},
   "source": [
    "### 4. Расчёт LTV ресторанов\n",
    "\n",
    "Определим три ресторана из Саранска с наибольшим LTV с начала мая до конца июня. Клиентами для сервиса доставки будут и рестораны, как и пользователи, которые делают заказы, поэтому считае LTV как суммарную комиссию, которая была получена от заказов в ресторане за эти два месяца."
   ]
  },
  {
   "cell_type": "code",
   "execution_count": null,
   "id": "71832a3e",
   "metadata": {
    "vscode": {
     "languageId": "sql"
    }
   },
   "outputs": [],
   "source": [
    "-- Рассчитываем величину комиссии с каждого заказа, отбираем заказы по дате и городу\n",
    "WITH orders AS\n",
    "    (SELECT analytics_events.rest_id,\n",
    "            analytics_events.city_id,\n",
    "            revenue * commission AS commission_revenue\n",
    "     FROM analytics_events\n",
    "     JOIN cities ON analytics_events.city_id = cities.city_id\n",
    "     WHERE revenue IS NOT NULL\n",
    "         AND log_date BETWEEN '2021-05-01' AND '2021-06-30'\n",
    "         AND city_name = 'Саранск')\n",
    "\n",
    "SELECT\n",
    "    o.rest_id,\n",
    "    chain AS \"Название сети\",\n",
    "    type AS \"Тип кухни\",\n",
    "    round(sum(commission_revenue)::numeric, 2) AS LTV\n",
    "FROM orders AS o\n",
    "JOIN partners AS p on o.rest_id = p.rest_id AND o.city_id = p.city_id\n",
    "GROUP BY o.rest_id, chain, type\n",
    "ORDER BY LTV DESC\n",
    "LIMIT 3"
   ]
  },
  {
   "cell_type": "markdown",
   "id": "d2cac430",
   "metadata": {},
   "source": [
    "### 5. Расчёт LTV ресторанов — самые популярные блюда\n",
    "\n",
    "Необходимо проанализировать данные о ресторанах и их блюдах, чтобы определить вклад самых популярных блюд из двух ресторанов Саранска — «Гурманское Наслаждение» и «Гастрономический Шторм» — в общий показатель LTV."
   ]
  },
  {
   "cell_type": "code",
   "execution_count": null,
   "id": "580691a1",
   "metadata": {
    "vscode": {
     "languageId": "sql"
    }
   },
   "outputs": [],
   "source": [
    "-- Рассчитываем величину комиссии с каждого заказа, отбираем заказы по дате и городу\n",
    "WITH orders AS\n",
    "    (SELECT analytics_events.rest_id,\n",
    "            analytics_events.city_id,\n",
    "            analytics_events.object_id,\n",
    "            revenue * commission AS commission_revenue\n",
    "     FROM analytics_events\n",
    "     JOIN cities ON analytics_events.city_id = cities.city_id\n",
    "     WHERE revenue IS NOT NULL\n",
    "         AND log_date BETWEEN '2021-05-01' AND '2021-06-30'\n",
    "         AND city_name = 'Саранск'), \n",
    "\n",
    "-- Рассчитываем два ресторана с наибольшим LTV \n",
    "top_ltv_restaurants AS\n",
    "    (SELECT orders.rest_id,\n",
    "            chain,\n",
    "            type,\n",
    "            ROUND(SUM(commission_revenue)::numeric, 2) AS LTV\n",
    "     FROM orders\n",
    "     JOIN partners ON orders.rest_id = partners.rest_id AND orders.city_id = partners.city_id\n",
    "     GROUP BY 1, 2, 3\n",
    "     ORDER BY LTV DESC\n",
    "     LIMIT 2)\n",
    "\n",
    "SELECT\n",
    "    chain AS \"Название сети\",\n",
    "    name AS \"Название блюда\",\n",
    "    spicy, \n",
    "    fish,\n",
    "    meat,\n",
    "    ROUND(SUM(commission_revenue)::numeric, 2) AS LTV\n",
    "FROM orders AS o\n",
    "JOIN dishes AS d on o.object_id = d.object_id AND o.rest_id = d.rest_id\n",
    "JOIN partners AS p on o.rest_id = p.rest_id AND o.city_id = p.city_id\n",
    "WHERE chain in (SELECT chain FROM top_ltv_restaurants)\n",
    "GROUP BY chain, name, spicy, fish, meat\n",
    "ORDER BY LTV DESC\n",
    "LIMIT 5"
   ]
  },
  {
   "cell_type": "markdown",
   "id": "01da713a",
   "metadata": {},
   "source": [
    "### 6. Расчёт Retention Rate\n",
    "\n",
    "Определим показатель возвращаемости: какой процент пользователей возвращается в приложение в течение первой недели после регистрации и в какие дни. Рассчитаем показатель Retention Rate в первую неделю для всех новых пользователей в Саранске."
   ]
  },
  {
   "cell_type": "code",
   "execution_count": null,
   "id": "d8e8ad1d",
   "metadata": {
    "vscode": {
     "languageId": "sql"
    }
   },
   "outputs": [],
   "source": [
    "-- Рассчитываем новых пользователей по дате первого посещения продукта\n",
    "WITH new_users AS\n",
    "    (SELECT DISTINCT first_date,\n",
    "                     user_id\n",
    "     FROM analytics_events\n",
    "     JOIN cities ON analytics_events.city_id = cities.city_id\n",
    "     WHERE first_date BETWEEN '2021-05-01' AND '2021-06-24'\n",
    "         AND city_name = 'Саранск'),\n",
    "\n",
    "-- Рассчитываем активных пользователей по дате события\n",
    "active_users AS\n",
    "    (SELECT DISTINCT log_date,\n",
    "                     user_id\n",
    "     FROM analytics_events\n",
    "     JOIN cities ON analytics_events.city_id = cities.city_id\n",
    "     WHERE log_date BETWEEN '2021-05-01' AND '2021-06-30'\n",
    "         AND city_name = 'Саранск'),\n",
    "\n",
    "-- Соединяем таблицы с новыми и активными пользователями\n",
    "daily_retention AS\n",
    "    (SELECT n.user_id,\n",
    "    log_date,\n",
    "    first_date,\n",
    "    log_date - first_date AS day_since_install\n",
    "    FROM new_users AS n\n",
    "    JOIN active_users AS a USING (user_id)\n",
    "    WHERE log_date >= first_date)\n",
    "\n",
    "SELECT\n",
    "    day_since_install,\n",
    "    count(DISTINCT user_id) AS retained_users,\n",
    "    round(count(DISTINCT user_id)::numeric / max(count(DISTINCT user_id)) OVER (ORDER BY day_since_install), 2) AS retention_rate\n",
    "FROM daily_retention\n",
    "GROUP BY day_since_install\n",
    "ORDER BY day_since_install\n",
    "LIMIT 8"
   ]
  },
  {
   "cell_type": "markdown",
   "id": "5a846880",
   "metadata": {},
   "source": [
    "### 7. Сравнение Retention Rate по месяцам\n",
    "\n",
    "Разделим пользователей на две когорты по месяцу первого посещения продукта, чтобы сравнить Retention Rate этих когорт между собой."
   ]
  },
  {
   "cell_type": "code",
   "execution_count": null,
   "id": "8f5ec991",
   "metadata": {
    "vscode": {
     "languageId": "sql"
    }
   },
   "outputs": [],
   "source": [
    "-- Рассчитываем новых пользователей по дате первого посещения продукта\n",
    "WITH new_users AS\n",
    "    (SELECT DISTINCT first_date,\n",
    "                     user_id\n",
    "     FROM analytics_events\n",
    "     JOIN cities ON analytics_events.city_id = cities.city_id\n",
    "     WHERE first_date BETWEEN '2021-05-01' AND '2021-06-24'\n",
    "         AND city_name = 'Саранск'),\n",
    "\n",
    "-- Рассчитываем активных пользователей по дате события\n",
    "active_users AS\n",
    "    (SELECT DISTINCT log_date,\n",
    "                     user_id\n",
    "     FROM analytics_events\n",
    "     JOIN cities ON analytics_events.city_id = cities.city_id\n",
    "     WHERE log_date BETWEEN '2021-05-01' AND '2021-06-30'\n",
    "         AND city_name = 'Саранск'),\n",
    "\n",
    "-- Соединяем таблицы с новыми и активными пользователями\n",
    "daily_retention AS\n",
    "    (SELECT new_users.user_id,\n",
    "            first_date,\n",
    "            log_date::date - first_date::date AS day_since_install\n",
    "     FROM new_users\n",
    "     JOIN active_users ON new_users.user_id = active_users.user_id\n",
    "     AND log_date >= first_date)\n",
    "\n",
    "SELECT\n",
    "    DATE_TRUNC('month', first_date)::date AS \"Месяц\",\n",
    "    day_since_install,\n",
    "    COUNT(DISTINCT user_id) AS retained_users,\n",
    "    ROUND(COUNT(DISTINCT user_id)::numeric / MAX(COUNT(DISTINCT user_id)) OVER (PARTITION BY CAST(DATE_TRUNC('month', first_date) AS date)), 2) AS retention_rate\n",
    "FROM daily_retention\n",
    "WHERE day_since_install < 8\n",
    "GROUP BY \"Месяц\", day_since_install\n",
    "ORDER BY \"Месяц\", day_since_install"
   ]
  },
  {
   "cell_type": "markdown",
   "id": "fabcd61f",
   "metadata": {},
   "source": [
    "---"
   ]
  },
  {
   "cell_type": "markdown",
   "id": "c49e5690",
   "metadata": {},
   "source": [
    "## 2. Визуальзация в DataLens"
   ]
  },
  {
   "cell_type": "markdown",
   "id": "0d7a679d",
   "metadata": {},
   "source": [
    "**Ссылка на дашборд:** https://datalens.yandex/lup9jlu3sooq7"
   ]
  },
  {
   "cell_type": "markdown",
   "id": "02794b17",
   "metadata": {},
   "source": [
    "### 1. DAU (активные пользователи за день)\n",
    "\n",
    "**Разброс значений:** Показатели колеблются от 17 до 85 активных пользователей в день.\n",
    "\n",
    "**Пиковые значения:**\n",
    "- Максимальный DAU (85) показывает наивысшую активность.\n",
    "- Минимальный DAU (17) указывает на дни с низкой вовлеченностью.\n",
    "- Средний уровень: Большинство значений сосредоточено в диапазоне 30–60, что можно считать типичной активностью.\n",
    "\n",
    "При анализе DAU на линейном графике, можно заметить, что количество активных пользователей нестабильное - график имеет заметные колебания, как в высокой, так и низкой активности.\n",
    "\n",
    "Стоит обратить внимание на дни, когда DAU был выше 60-70 пользователей в сутки: \n",
    "- в мае с 3 по 5, 11 и 31; \n",
    "- в июне - 3, с 7 по 11 и 15.\n",
    "- Также стоит рассмотреть дни, когда DAU опускался ниже 30: 15, 16 и 22 мая; с 26 по 28 июня\n",
    "\n",
    "В анализируемом периоде сложно проследить зависимость от дня недели или сезонные факторы, при этом, в рамках двух месяцев можно увидеть, что активность возрастает в примерно одинаковые промежутки. Нужно дополнительно проанализировать причины - возможно, в них проводились промо акции или у пользователей в эти даты поступает зарплата, поэтому они решают сделать заказ\n",
    "\n",
    "Дополнительно стоит проанализировать периоды низкой активности. Они не имеют долгосрочной тенденции, но на графике ощущаются критично.\n",
    "\n",
    "Также для понимания полной картины, стоит проанализировать конверсию в заказ. Возможно, присутствует корреляция между всплеском посетителей и оформлением заказа"
   ]
  },
  {
   "cell_type": "markdown",
   "id": "3263ba76",
   "metadata": {},
   "source": [
    "### 2. Conversion Rate (коэффициент конверсии)\n",
    "\n",
    "В рамках анализа линейного графика конверсии в заказ, можно заметить, что доля переходов нестабильна и подвержена колебаниям больше, чем DAU - от 18% до 43%.\n",
    "\n",
    "На графике сложно определить паттерны поведений пользователей, при эти этом конверсия возрастает каждые 2-3 дня. Другой тенденции, как сезонность или от дня недели, не прослеживается.\n",
    "\n",
    "При этом, стоит отдельно проанализировать пиковые значения - 43% и 41% 1, 3 и 4 мая соответственно - возможно, в эти дни проходили акции. И отдельно проанализировать дни, когда конверсия проседала - 28 мая 19% и 18 июня 18%."
   ]
  },
  {
   "cell_type": "markdown",
   "id": "0db6ae19",
   "metadata": {},
   "source": [
    "### 3. Средний чек\n",
    "\n",
    "При исследовании среднего чека по месяцам, можно заметить, что в июне средний чек был немного больше, чем в мае (135 и 147 рублей соответственно), - на фоне снижения DAU. Это может указывать на рост числа повторных заказов. \n",
    "\n",
    "Рост среднего чека — это положительная тенденция, если он сопровождается стабильным или растущим количеством заказов. Однако, если рост связан с повышением цен и приводит к снижению числа клиентов, это может быть тревожным сигналом. "
   ]
  },
  {
   "cell_type": "markdown",
   "id": "217e44b1",
   "metadata": {},
   "source": [
    "### 4. Retention Rate (коэффициент удержания пользователей)\n",
    "\n",
    "Анализ общего Retention:\n",
    "на день 1 возвращается только 14% пользователей, что указывает на очень низкую краткосрочную вовлеченность.\n",
    "К дню 7 Retention падает до 4%, то есть 96% пользователей не возвращаются через неделю.\n",
    "\n",
    "Начиная с дня 5, Retention держится на уровне 4%, что говорит о наличии небольшой, но стабильной группы лояльных клиентов.\n",
    "\n",
    "Анализ Retention по месяцам:\n",
    "В мае на 1 день Retention — 14% (как в общем случае).\n",
    "К дню 7 Retention немного вырастает до 5%, возможно, из-за акций или улучшения сервиса в этот период.\n",
    "В июне на день 1 Retention — 13% (чуть хуже, чем в мае).\n",
    "К дню 7 Retention падает до 3%, что ниже майского показателя и общего уровня. Это может сигнализировать о проблемах (например, ухудшение качества доставки или конкуренция). \n",
    "\n",
    "При этом, кол-во пользователей и средний чек в июне больше. Это может говорить о том, что клиенты приходили единожды в рамках выгодных акций, но что-то в сервисе им не понравилось и они перестают им пользоваться в последующие дни.\n",
    "\n",
    "Еще причины низкого RR - По информации сайта «ГородРабот.ру», за период с января по декабрь 2021 года средняя заработная плата в Саранске была 42 512 рублей, медианная — 28 503 рубля, модальная — 25 000 рублей, что заранее предупреждает о невысокой платежеспособности населения.\n",
    "\n",
    "Стоит отметить, что быстрое снижение RR — типичная ситуация для подобных сервисов."
   ]
  },
  {
   "cell_type": "markdown",
   "id": "a7c05afe",
   "metadata": {},
   "source": [
    "### 5. Топ-3 ресторанов по LTV\n",
    "\n",
    "**LTV топ-3 ресторанов**\n",
    "1. Гурманское Наслаждение (LTV: 170 679 р)\n",
    "Лидер по LTV, что указывает на высокую прибыльность и лояльность клиентов.\n",
    "Тип кухни: ресторан (возможно, премиальный сегмент).\n",
    "\n",
    "2. Гастрономический Шторм (LTV: 164 908 р)\n",
    "Близок к лидеру, но немного отстает.\n",
    "Тип кухни: ресторан (возможно, специализируется на острых блюдах).\n",
    "\n",
    "3. Шоколадный Рай (LTV: 61 109 р)\n",
    "Значительно уступает первым двум (LTV в ~2.8 раза ниже).\n",
    "Тип кухни: кондитерская — вероятно, меньший средний чек или менее частые повторные заказы.\n",
    "\n",
    "Премиальные рестораны (\"Гурманское Наслаждение\" и \"Гастрономический Шторм\") генерируют значительно более высокий LTV по сравнению с кондитерской.\n",
    "Шоколадный Рай может требовать оптимизации (например, программ лояльности или расширения ассортимента).\n",
    "\n",
    "**LTV топ-5 блюд**\n",
    "1. brokkoli zapechennaja v duhovke s jajcami i travami (41 140 р)\n",
    "Ресторан: \"Гастрономический Шторм\".\n",
    "Состав: рыбное или мясное блюдо\n",
    "\n",
    "2. govjazhi shashliki v pesto iz kinzi (36 076 р)\n",
    "Ресторан: \"Гурманское Наслаждение\".\n",
    "Состав: рыбное или мясное блюдо.\n",
    "\n",
    "3. medaloni iz lososja (14 946 р)\n",
    "Ресторан: \"Гурманское Наслаждение\".\n",
    "Состав: рыбное или мясное блюдо, но LTV в 2.4 раза ниже, чем у лидера.\n",
    "\n",
    "4. myasnye ezhiki (14 337,62 ₽)\n",
    "Ресторан: \"Гурманское Наслаждение\".\n",
    "Состав: мясное блюдо.\n",
    "\n",
    "5. teljatina s sousom iz belogo vina petrushki (13 960,66 ₽)\n",
    "Ресторан: \"Гастрономический Шторм\".\n",
    "Состав: рыбное или мясное блюдо, минимальный LTV в топ-5.\n",
    "\n",
    "\n",
    "Мясные блюда доминируют в топе (5 из 5), что указывает на их высокую маржинальность или спрос, при этом немного уступают рыбные (4 из 5), что также говорит о популярности\n",
    "\n",
    "При этом, по названию не совсем очевидно, что блюдо может состоять или из мяса, или из рыбы.\n"
   ]
  },
  {
   "cell_type": "markdown",
   "id": "965f4a8b",
   "metadata": {},
   "source": [
    "## Общие рекомендации\n",
    "\n",
    "**Улучшение стабильности DAU:**\n",
    "-\tВнедрить еженедельные акции.\n",
    "-\tЗапустить push-уведомления с персонализированными предложениями для неактивных пользователей.\n",
    "\n",
    "**Анализ причин падений DAU:**\n",
    "-\tПроверить, совпадают ли низкие DAU с техническими сбоями (например, ошибки при заказе).\n",
    "-\tИзучить дни с минимальной активностью: возможно, требуется адаптация под будние/выходные.\n",
    "\n",
    "**Стимулирование роста DAU:**\n",
    "-\tВвести программу лояльности (например, бонусы за ежедневное использование приложения).\n",
    "-\tУсилить рекламу в периоды спадов (например, таргетированные кампании в соцсетях).\n",
    "\n",
    "**Оптимизация конверсии:**\n",
    "-\tУпростить процесс заказа: уменьшить количество шагов, добавить автозаполнение данных.\n",
    "-\tПерсонализация предложений: Внедрить рекомендательную систему на основе истории заказов. и отправлять персонализированные скидки для пользователей, которые добавили товары в корзину, но не завершили покупку.\n",
    "\n",
    "\n",
    "**Рекомендации по Retention:**\n",
    "1. По привлечению клиентов:\n",
    "- День 0-1: Добавить триггеры для повторного заказа (например, скидку на следующий день).\n",
    "- День 2-7: Внедрить push-уведомления или email-напоминания с персонализированными предложениями.\n",
    "- Программа лояльности: Кешбэк или бесплатный десерт за повторные заказы в первую неделю.\n",
    "\n",
    "2. По анализу оттока:\n",
    "- Провести опросы среди пользователей, которые не вернулись (например, после дня 0).\n",
    "- Проверить логи доставки/отмен заказов, чтобы выявить возможные сбои.\n",
    "\n",
    "**Рекомендации по увеличению LTV**\n",
    "-\tСделать упор на блюда, содержащие рыбу или мясо. При этом, меньше предлагать клиентам острые блюда (но оставить их, чтобы не отпугнуть аудиторию любителей острого)\n",
    "-\tРаботать больше с ресторанами, так как LTV у этого сегмента больше\n"
   ]
  }
 ],
 "metadata": {
  "language_info": {
   "name": "python"
  }
 },
 "nbformat": 4,
 "nbformat_minor": 5
}
